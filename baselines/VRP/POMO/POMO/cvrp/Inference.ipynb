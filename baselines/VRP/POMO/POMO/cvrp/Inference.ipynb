{
 "cells": [
  {
   "cell_type": "markdown",
   "source": [
    "The MIT License\n",
    "\n",
    "Copyright (c) 2020 Yeong-Dae Kwon\n",
    " \n",
    "Permission is hereby granted, free of charge, to any person obtaining a copy\n",
    "of this software and associated documentation files (the \"Software\"), to deal\n",
    "in the Software without restriction, including without limitation the rights\n",
    "to use, copy, modify, merge, publish, distribute, sublicense, and/or sell\n",
    "copies of the Software, and to permit persons to whom the Software is\n",
    "furnished to do so, subject to the following conditions:\n",
    " \n",
    "The above copyright notice and this permission notice shall be included in\n",
    "all copies or substantial portions of the Software.\n",
    " \n",
    " \n",
    " \n",
    "THE SOFTWARE IS PROVIDED \"AS IS\", WITHOUT WARRANTY OF ANY KIND, EXPRESS OR\n",
    "IMPLIED, INCLUDING BUT NOT LIMITED TO THE WARRANTIES OF MERCHANTABILITY,\n",
    "FITNESS FOR A PARTICULAR PURPOSE AND NONINFRINGEMENT. IN NO EVENT SHALL THE\n",
    "AUTHORS OR COPYRIGHT HOLDERS BE LIABLE FOR ANY CLAIM, DAMAGES OR OTHER\n",
    "LIABILITY, WHETHER IN AN ACTION OF CONTRACT, TORT OR OTHERWISE, ARISING FROM,\n",
    "OUT OF OR IN CONNECTION WITH THE SOFTWARE OR THE USE OR OTHER DEALINGS IN\n",
    "THE SOFTWARE.\n"
   ],
   "metadata": {
    "collapsed": false
   }
  },
  {
   "cell_type": "code",
   "execution_count": null,
   "metadata": {
    "pycharm": {
     "name": "#%%\n"
    }
   },
   "outputs": [],
   "source": [
    "SAVE_FOLDER_NAME = \"INFERENCE_00\"\n",
    "print(SAVE_FOLDER_NAME)\n"
   ]
  },
  {
   "cell_type": "code",
   "execution_count": null,
   "metadata": {},
   "outputs": [],
   "source": [
    "from HYPER_PARAMS import *  # NOTE : You much edit HYPER_PARAMS to match the model you are loading\n",
    "from TORCH_OBJECTS import *\n",
    "import numpy as np\n",
    "import time\n",
    "\n"
   ]
  },
  {
   "cell_type": "code",
   "execution_count": null,
   "metadata": {
    "scrolled": true
   },
   "outputs": [],
   "source": [
    "from source.cvrp import GROUP_ENVIRONMENT\n",
    "import source.MODEL__Actor.grouped_actors as A_Module\n",
    "from source.utilities import Average_Meter, augment_xy_data_by_8_fold, Get_Logger\n"
   ]
  },
  {
   "cell_type": "code",
   "execution_count": null,
   "metadata": {
    "pycharm": {
     "name": "#%%\n"
    }
   },
   "outputs": [],
   "source": [
    "# Make Log File\n",
    "logger, result_folder_path = Get_Logger(SAVE_FOLDER_NAME)\n",
    "\n",
    "print(result_folder_path)\n"
   ]
  },
  {
   "cell_type": "code",
   "execution_count": null,
   "metadata": {},
   "outputs": [],
   "source": [
    "# Load Model\n",
    "grouped_actor = A_Module.ACTOR().to(device)\n",
    "\n",
    "actor_model_save_path = './result/Saved_CVRP100_Model/ACTOR_state_dic.pt'\n",
    "grouped_actor.load_state_dict(torch.load(actor_model_save_path, map_location=\"cuda:0\"))\n",
    "grouped_actor.eval()\n",
    "\n",
    "logger.info('==============================================================================')\n",
    "logger.info('==============================================================================')\n",
    "log_str = '  <<< MODEL: {:s} >>>'.format(actor_model_save_path)\n",
    "logger.info(log_str)\n",
    "\n"
   ]
  },
  {
   "cell_type": "code",
   "execution_count": null,
   "metadata": {},
   "outputs": [],
   "source": [
    "\n",
    "\n",
    "if PROBLEM_SIZE == 20:\n",
    "    demand_scaler = 30\n",
    "elif PROBLEM_SIZE == 50:\n",
    "    demand_scaler = 40\n",
    "elif PROBLEM_SIZE == 100:\n",
    "    demand_scaler = 50\n",
    "else:\n",
    "    raise NotImplementedError\n",
    "\n",
    "\n",
    "LOG_PERIOD_SEC = 10\n",
    "DATASET_SIZE = 100 *1000\n"
   ]
  },
  {
   "cell_type": "code",
   "execution_count": null,
   "metadata": {
    "pycharm": {
     "name": "#%%\n"
    }
   },
   "outputs": [],
   "source": [
    "TEST_BATCH_SIZE = 1024\n",
    "eval_dist_AM_0 = Average_Meter()\n",
    "\n",
    "\n",
    "logger.info('===================================================================')\n",
    "log_str = 'Single Trajectory'\n",
    "logger.info(log_str)\n",
    "\n",
    "timer_start = time.time()\n",
    "logger_start = time.time()\n",
    "\n",
    "\n",
    "episode = 0\n",
    "while True:\n",
    "    node_data = Tensor(np.random.rand(TEST_BATCH_SIZE, PROBLEM_SIZE+1, 2))\n",
    "    demand_data = Tensor(np.random.randint(1, 10, TEST_BATCH_SIZE*PROBLEM_SIZE) / demand_scaler)\n",
    "    \n",
    "    depot_xy = node_data[:, [0], :]\n",
    "    node_xy = node_data[:, 1:, :]\n",
    "    node_demand = demand_data.reshape(TEST_BATCH_SIZE, PROBLEM_SIZE, 1)\n",
    "    # depot_xy.shape = (batch, 1, 2)\n",
    "    # node_xy.shape = (batch, problem, 2)\n",
    "    # node_demand.shape = (batch, problem, 1)\n",
    "\n",
    "    batch_s = TEST_BATCH_SIZE\n",
    "    episode = episode + batch_s\n",
    "    \n",
    "    \n",
    "\n",
    "    with torch.no_grad():\n",
    "\n",
    "        env = GROUP_ENVIRONMENT(depot_xy, node_xy, node_demand)\n",
    "        group_s = 1\n",
    "        group_state, reward, done = env.reset(group_size=group_s)\n",
    "        grouped_actor.reset(group_state)\n",
    "\n",
    "        # First Move is given\n",
    "        first_action = LongTensor(np.zeros((batch_s, group_s)))  # start from node_0-depot\n",
    "        group_state, reward, done = env.step(first_action)\n",
    "\n",
    "        # Second Move is given\n",
    "        second_action = LongTensor(np.arange(group_s))[None, :].expand(batch_s, group_s)\n",
    "        group_state, reward, done = env.step(second_action)\n",
    "\n",
    "        while not done:\n",
    "            action_probs = grouped_actor.get_action_probabilities(group_state)\n",
    "            # shape = (batch, group, problem+1)\n",
    "            action = action_probs.argmax(dim=2)\n",
    "            # shape = (batch, group)\n",
    "            action[group_state.finished] = 0  # stay at depot, if you are finished\n",
    "            group_state, reward, done = env.step(action)\n",
    "\n",
    "    eval_dist_AM_0.push(-reward[:, 0])  # reward was given as negative dist\n",
    "\n",
    "\n",
    "\n",
    "    if (time.time()-logger_start > LOG_PERIOD_SEC) or (episode >= DATASET_SIZE):\n",
    "        timestr = time.strftime(\"%H:%M:%S\", time.gmtime(time.time()-timer_start))\n",
    "        log_str = 'Ep:{:07d}({:5.1f}%)  T:{:s}  avg.dist:{:f}'\\\n",
    "            .format(episode, episode/DATASET_SIZE*100,\n",
    "                    timestr, eval_dist_AM_0.peek())\n",
    "        logger.info(log_str)\n",
    "        logger_start = time.time()\n",
    "\n",
    "    if episode >= DATASET_SIZE:\n",
    "        break\n",
    "    \n",
    "    \n",
    "logger.info('---------------------------------------------------')\n",
    "logger.info('average = {}'.format(eval_dist_AM_0.result()))\n",
    "logger.info('---------------------------------------------------')\n",
    "logger.info('---------------------------------------------------')\n"
   ]
  },
  {
   "cell_type": "code",
   "execution_count": null,
   "metadata": {
    "pycharm": {
     "name": "#%%\n"
    }
   },
   "outputs": [],
   "source": []
  },
  {
   "cell_type": "code",
   "execution_count": null,
   "metadata": {
    "pycharm": {
     "name": "#%%\n"
    }
   },
   "outputs": [],
   "source": []
  },
  {
   "cell_type": "code",
   "execution_count": null,
   "metadata": {
    "pycharm": {
     "name": "#%%\n"
    }
   },
   "outputs": [],
   "source": [
    "TEST_BATCH_SIZE = 1024\n",
    "eval_dist_AM_0 = Average_Meter()\n",
    "\n",
    "logger.info('===================================================================')\n",
    "log_str = 'All Trajectory'\n",
    "logger.info(log_str)\n",
    "\n",
    "\n",
    "timer_start = time.time()\n",
    "logger_start = time.time()\n",
    "episode = 0\n",
    "while True:\n",
    "    \n",
    "    node_data = Tensor(np.random.rand(TEST_BATCH_SIZE, PROBLEM_SIZE+1, 2))\n",
    "    demand_data = Tensor(np.random.randint(1, 10, TEST_BATCH_SIZE*PROBLEM_SIZE) / demand_scaler)\n",
    "    \n",
    "    depot_xy = node_data[:, [0], :]\n",
    "    node_xy = node_data[:, 1:, :]\n",
    "    node_demand = demand_data.reshape(TEST_BATCH_SIZE, PROBLEM_SIZE, 1)\n",
    "    # depot_xy.shape = (batch, 1, 2)\n",
    "    # node_xy.shape = (batch, problem, 2)\n",
    "    # node_demand.shape = (batch, problem, 1)\n",
    "\n",
    "    batch_s = TEST_BATCH_SIZE\n",
    "    episode = episode + batch_s\n",
    "    \n",
    "    \n",
    "\n",
    "    with torch.no_grad():\n",
    "\n",
    "        env = GROUP_ENVIRONMENT(depot_xy, node_xy, node_demand)\n",
    "        group_s = PROBLEM_SIZE\n",
    "        group_state, reward, done = env.reset(group_size=group_s)\n",
    "        grouped_actor.reset(group_state)\n",
    "\n",
    "        # First Move is given\n",
    "        first_action = LongTensor(np.zeros((batch_s, group_s)))  # start from node_0-depot\n",
    "        group_state, reward, done = env.step(first_action)\n",
    "\n",
    "        # Second Move is given\n",
    "        second_action = LongTensor(np.arange(group_s))[None, :].expand(batch_s, group_s)\n",
    "        group_state, reward, done = env.step(second_action)\n",
    "\n",
    "        while not done:\n",
    "            action_probs = grouped_actor.get_action_probabilities(group_state)\n",
    "            # shape = (batch, group, problem+1)\n",
    "            action = action_probs.argmax(dim=2)\n",
    "            # shape = (batch, group)\n",
    "            action[group_state.finished] = 0  # stay at depot, if you are finished\n",
    "            group_state, reward, done = env.step(action)\n",
    "\n",
    "    max_reward, _ = reward.max(dim=1)\n",
    "    eval_dist_AM_0.push(-max_reward)  # reward was given as negative dist\n",
    "\n",
    "\n",
    "    if (time.time()-logger_start > LOG_PERIOD_SEC) or (episode >= DATASET_SIZE):\n",
    "        timestr = time.strftime(\"%H:%M:%S\", time.gmtime(time.time()-timer_start))\n",
    "        log_str = 'Ep:{:07d}({:5.1f}%)  T:{:s}  avg.dist:{:f}'\\\n",
    "            .format(episode, episode/DATASET_SIZE*100,\n",
    "                    timestr, eval_dist_AM_0.peek())\n",
    "        logger.info(log_str)\n",
    "        logger_start = time.time()\n",
    "\n",
    "    \n",
    "    if episode >= DATASET_SIZE:\n",
    "        break\n",
    "    \n",
    "logger.info('---------------------------------------------------')\n",
    "logger.info('average = {}'.format(eval_dist_AM_0.result()))\n",
    "logger.info('---------------------------------------------------')\n",
    "logger.info('---------------------------------------------------')\n"
   ]
  },
  {
   "cell_type": "code",
   "execution_count": null,
   "metadata": {},
   "outputs": [],
   "source": []
  },
  {
   "cell_type": "code",
   "execution_count": null,
   "metadata": {
    "pycharm": {
     "name": "#%%\n"
    }
   },
   "outputs": [],
   "source": [
    "TEST_BATCH_SIZE = 256\n",
    "eval_dist_AM_0 = Average_Meter()\n",
    "\n",
    "logger.info('===================================================================')\n",
    "log_str = 'Augmented x8 Input'\n",
    "logger.info(log_str)\n",
    "\n",
    "\n",
    "timer_start = time.time()\n",
    "logger_start = time.time()\n",
    "episode = 0\n",
    "while True:\n",
    "    \n",
    "    node_data = Tensor(np.random.rand(TEST_BATCH_SIZE, PROBLEM_SIZE+1, 2))\n",
    "    demand_data = Tensor(np.random.randint(1, 10, TEST_BATCH_SIZE*PROBLEM_SIZE) / demand_scaler)\n",
    "    \n",
    "    depot_xy = node_data[:, [0], :]\n",
    "    node_xy = node_data[:, 1:, :]\n",
    "    node_demand = demand_data.reshape(TEST_BATCH_SIZE, PROBLEM_SIZE, 1)\n",
    "    # depot_xy.shape = (batch, 1, 2)\n",
    "    # node_xy.shape = (batch, problem, 2)\n",
    "    # node_demand.shape = (batch, problem, 1)\n",
    "\n",
    "    batch_s = TEST_BATCH_SIZE\n",
    "    episode = episode + batch_s\n",
    "    \n",
    "\n",
    "    # 8 fold Augmented\n",
    "    aug_depot_xy = augment_xy_data_by_8_fold(depot_xy)\n",
    "    # aug_depot_xy.shape = (8*batch, 1, 2)\n",
    "    aug_node_xy = augment_xy_data_by_8_fold(node_xy)\n",
    "    # aug_node_xy.shape = (8*batch, problem, 2)\n",
    "    aug_node_demand = node_demand.repeat(8, 1, 1)\n",
    "    # aug_node_demand.shape = (8*batch, problem, 2)\n",
    "    batch_s = 8*batch_s\n",
    "\n",
    "\n",
    "    with torch.no_grad():\n",
    "\n",
    "        env = GROUP_ENVIRONMENT(aug_depot_xy, aug_node_xy, aug_node_demand)\n",
    "        group_s = PROBLEM_SIZE\n",
    "        group_state, reward, done = env.reset(group_size=group_s)\n",
    "        grouped_actor.reset(group_state)\n",
    "\n",
    "        # First Move is given\n",
    "        first_action = LongTensor(np.zeros((batch_s, group_s)))  # start from node_0-depot\n",
    "        group_state, reward, done = env.step(first_action)\n",
    "\n",
    "        # Second Move is given\n",
    "        second_action = LongTensor(np.arange(group_s))[None, :].expand(batch_s, group_s)\n",
    "        group_state, reward, done = env.step(second_action)\n",
    "\n",
    "        while not done:\n",
    "            action_probs = grouped_actor.get_action_probabilities(group_state)\n",
    "            # shape = (batch, group, problem+1)\n",
    "            action = action_probs.argmax(dim=2)\n",
    "            # shape = (batch, group)\n",
    "            action[group_state.finished] = 0  # stay at depot, if you are finished\n",
    "            group_state, reward, done = env.step(action)\n",
    "\n",
    "\n",
    "    batch_s = round(batch_s/8)\n",
    "    group_reward = reward.reshape(8, batch_s, group_s)\n",
    "    # shape = (8, batch, group)\n",
    "    max_reward, _ = group_reward.max(dim=2)\n",
    "    max_reward, _ = max_reward.max(dim=0)\n",
    "    eval_dist_AM_0.push(-max_reward)  # reward was given as negative dist\n",
    "\n",
    "\n",
    "\n",
    "    if (time.time()-logger_start > LOG_PERIOD_SEC) or (episode >= DATASET_SIZE):\n",
    "        timestr = time.strftime(\"%H:%M:%S\", time.gmtime(time.time()-timer_start))\n",
    "        log_str = 'Ep:{:07d}({:5.1f}%)  T:{:s}  avg.dist:{:f}'\\\n",
    "            .format(episode, episode/DATASET_SIZE*100,\n",
    "                    timestr, eval_dist_AM_0.peek())\n",
    "        logger.info(log_str)\n",
    "        logger_start = time.time()\n",
    "\n",
    "    \n",
    "    if episode >= DATASET_SIZE:\n",
    "        break\n",
    "    \n",
    "logger.info('---------------------------------------------------')\n",
    "logger.info('average = {}'.format(eval_dist_AM_0.result()))\n",
    "logger.info('---------------------------------------------------')\n",
    "logger.info('---------------------------------------------------')\n",
    "\n"
   ]
  },
  {
   "cell_type": "code",
   "execution_count": null,
   "metadata": {
    "pycharm": {
     "name": "#%%\n"
    }
   },
   "outputs": [],
   "source": []
  }
 ],
 "metadata": {
  "kernelspec": {
   "display_name": "Python 3",
   "language": "python",
   "name": "python3"
  },
  "language_info": {
   "codemirror_mode": {
    "name": "ipython",
    "version": 3
   },
   "file_extension": ".py",
   "mimetype": "text/x-python",
   "name": "python",
   "nbconvert_exporter": "python",
   "pygments_lexer": "ipython3",
   "version": "3.7.4"
  },
  "pycharm": {
   "stem_cell": {
    "cell_type": "raw",
    "source": [],
    "metadata": {
     "collapsed": false
    }
   }
  }
 },
 "nbformat": 4,
 "nbformat_minor": 4
}