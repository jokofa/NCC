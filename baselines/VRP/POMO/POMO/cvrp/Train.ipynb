{
 "cells": [
  {
   "cell_type": "markdown",
   "source": [
    "The MIT License\n",
    "\n",
    "Copyright (c) 2020 Yeong-Dae Kwon\n",
    " \n",
    "Permission is hereby granted, free of charge, to any person obtaining a copy\n",
    "of this software and associated documentation files (the \"Software\"), to deal\n",
    "in the Software without restriction, including without limitation the rights\n",
    "to use, copy, modify, merge, publish, distribute, sublicense, and/or sell\n",
    "copies of the Software, and to permit persons to whom the Software is\n",
    "furnished to do so, subject to the following conditions:\n",
    " \n",
    "The above copyright notice and this permission notice shall be included in\n",
    "all copies or substantial portions of the Software.\n",
    " \n",
    " \n",
    " \n",
    "THE SOFTWARE IS PROVIDED \"AS IS\", WITHOUT WARRANTY OF ANY KIND, EXPRESS OR\n",
    "IMPLIED, INCLUDING BUT NOT LIMITED TO THE WARRANTIES OF MERCHANTABILITY,\n",
    "FITNESS FOR A PARTICULAR PURPOSE AND NONINFRINGEMENT. IN NO EVENT SHALL THE\n",
    "AUTHORS OR COPYRIGHT HOLDERS BE LIABLE FOR ANY CLAIM, DAMAGES OR OTHER\n",
    "LIABILITY, WHETHER IN AN ACTION OF CONTRACT, TORT OR OTHERWISE, ARISING FROM,\n",
    "OUT OF OR IN CONNECTION WITH THE SOFTWARE OR THE USE OR OTHER DEALINGS IN\n",
    "THE SOFTWARE.\n"
   ],
   "metadata": {
    "collapsed": false
   }
  },
  {
   "cell_type": "code",
   "execution_count": null,
   "metadata": {
    "pycharm": {
     "name": "#%%\n"
    }
   },
   "outputs": [],
   "source": [
    "SAVE_FOLDER_NAME = \"TRAIN_00\"\n",
    "print(SAVE_FOLDER_NAME)\n"
   ]
  },
  {
   "cell_type": "code",
   "execution_count": null,
   "metadata": {
    "pycharm": {
     "is_executing": false
    }
   },
   "outputs": [],
   "source": [
    "####################################\n",
    "# EXTERNAL LIBRARY\n",
    "####################################\n",
    "import torch\n",
    "import torch.optim as optim\n",
    "import torch.optim.lr_scheduler as lr_scheduler \n",
    "\n",
    "import os\n",
    "import shutil\n",
    "import time\n",
    "import numpy as np\n",
    "\n",
    "\n",
    "\n",
    "####################################\n",
    "# INTERNAL LIBRARY\n",
    "####################################\n",
    "from source.utilities import Get_Logger\n",
    "\n",
    "\n",
    "\n",
    "####################################\n",
    "# PROJECT VARIABLES\n",
    "####################################\n",
    "from HYPER_PARAMS import *\n",
    "from TORCH_OBJECTS import *\n",
    "\n",
    "\n",
    "\n",
    "####################################\n",
    "# PROJECT MODULES (to swap as needed)\n",
    "####################################\n",
    "import source.MODEL__Actor.grouped_actors as A_Module\n",
    "import source.TRAIN_N_EVAL.Train_Grouped_Actors as T_Module\n",
    "import source.TRAIN_N_EVAL.Evaluate__Grouped_Actors as E_Module\n",
    "\n",
    "    "
   ]
  },
  {
   "cell_type": "markdown",
   "metadata": {
    "pycharm": {
     "is_executing": false
    }
   },
   "source": [
    "### MAIN"
   ]
  },
  {
   "cell_type": "code",
   "execution_count": null,
   "metadata": {
    "pycharm": {
     "is_executing": false,
     "name": "#%%\n"
    }
   },
   "outputs": [],
   "source": [
    "# Make Log File\n",
    "logger, result_folder_path = Get_Logger(SAVE_FOLDER_NAME)\n",
    "\n",
    "\n",
    "# Save used HYPER_PARAMS\n",
    "hyper_param_filepath = './HYPER_PARAMS.py'\n",
    "hyper_param_save_path = '{}/used_HYPER_PARAMS.txt'.format(result_folder_path) \n",
    "shutil.copy(hyper_param_filepath, hyper_param_save_path)\n",
    "\n",
    "\n",
    "############################################################################################################\n",
    "############################################################################################################\n",
    "\n",
    "\n",
    "\n",
    "# Objects to Use\n",
    "actor = A_Module.ACTOR().to(device)\n",
    "actor.optimizer = optim.Adam(actor.parameters(), lr=ACTOR_LEARNING_RATE, weight_decay=ACTOR_WEIGHT_DECAY)\n",
    "actor.lr_stepper = lr_scheduler.StepLR(actor.optimizer, step_size=LR_DECAY_EPOCH, gamma=LR_DECAY_GAMMA)\n",
    "\n",
    "\n",
    "    \n",
    "    \n",
    "# GO\n",
    "timer_start = time.time()\n",
    "for epoch in range(1, TOTAL_EPOCH+1):\n",
    "    \n",
    "    log_package = {\n",
    "        'epoch': epoch,\n",
    "        'timer_start': timer_start,\n",
    "        'logger': logger        \n",
    "    }\n",
    "\n",
    "\n",
    "    #  TRAIN\n",
    "    #######################################################\n",
    "    T_Module.TRAIN(actor, **log_package)\n",
    "    \n",
    "\n",
    "    #  EVAL\n",
    "    #######################################################\n",
    "    E_Module.EVAL(actor, **log_package)\n",
    "\n",
    "\n",
    "    #  Check Point\n",
    "    #######################################################\n",
    "    checkpoint_epochs = (1, TOTAL_EPOCH+1, 10)\n",
    "    if epoch in checkpoint_epochs:\n",
    "        checkpoint_folder_path = '{}/CheckPoint_ep{:05d}'.format(result_folder_path, epoch)\n",
    "        os.mkdir(checkpoint_folder_path)\n",
    "        \n",
    "        model_save_path = '{}/ACTOR_state_dic.pt'.format(checkpoint_folder_path)\n",
    "        torch.save(actor.state_dict(), model_save_path)\n",
    "        optimizer_save_path = '{}/OPTIM_state_dic.pt'.format(checkpoint_folder_path)\n",
    "        torch.save(actor.optimizer.state_dict(), optimizer_save_path)\n",
    "        lr_stepper_save_path = '{}/LRSTEP_state_dic.pt'.format(checkpoint_folder_path)\n",
    "        torch.save(actor.lr_stepper.state_dict(), lr_stepper_save_path)\n",
    "\n",
    "\n",
    "            "
   ]
  },
  {
   "cell_type": "code",
   "execution_count": null,
   "metadata": {},
   "outputs": [],
   "source": []
  },
  {
   "cell_type": "code",
   "execution_count": null,
   "metadata": {
    "pycharm": {
     "is_executing": true
    }
   },
   "outputs": [],
   "source": [
    "from source.utilities import Extract_from_LogFile\n",
    "\n",
    "exec_command_str = Extract_from_LogFile(result_folder_path, 'eval_result')\n",
    "print(exec_command_str)\n",
    "exec(exec_command_str)\n",
    "\n"
   ]
  },
  {
   "cell_type": "code",
   "execution_count": null,
   "metadata": {
    "pycharm": {
     "name": "#%%\n"
    }
   },
   "outputs": [],
   "source": [
    "from matplotlib import pyplot as plt\n",
    "plt.plot(0,0)\n",
    "plt.show()\n"
   ]
  },
  {
   "cell_type": "code",
   "execution_count": null,
   "metadata": {
    "pycharm": {
     "name": "#%%\n"
    }
   },
   "outputs": [],
   "source": [
    "\n",
    "plt.plot(eval_result)\n",
    "plt.grid(True)\n",
    "\n",
    "plt.savefig('{}/eval_result.jpg'.format(result_folder_path))\n",
    "\n"
   ]
  },
  {
   "cell_type": "code",
   "execution_count": null,
   "metadata": {},
   "outputs": [],
   "source": [
    "model_save_path = '{}/ACTOR_state_dic.pt'.format(result_folder_path)\n",
    "torch.save(actor.state_dict(), model_save_path)\n",
    "optimizer_save_path = '{}/OPTIM_state_dic.pt'.format(result_folder_path)\n",
    "torch.save(actor.optimizer.state_dict(), optimizer_save_path)\n",
    "lr_stepper_save_path = '{}/LRSTEP_state_dic.pt'.format(result_folder_path)\n",
    "torch.save(actor.lr_stepper.state_dict(), lr_stepper_save_path)"
   ]
  },
  {
   "cell_type": "code",
   "execution_count": null,
   "metadata": {
    "pycharm": {
     "name": "#%%\n"
    }
   },
   "outputs": [],
   "source": []
  }
 ],
 "metadata": {
  "kernelspec": {
   "display_name": "Python 3",
   "language": "python",
   "name": "python3"
  },
  "language_info": {
   "codemirror_mode": {
    "name": "ipython",
    "version": 3
   },
   "file_extension": ".py",
   "mimetype": "text/x-python",
   "name": "python",
   "nbconvert_exporter": "python",
   "pygments_lexer": "ipython3",
   "version": "3.7.4"
  },
  "pycharm": {
   "stem_cell": {
    "cell_type": "raw",
    "source": [],
    "metadata": {
     "collapsed": false
    }
   }
  }
 },
 "nbformat": 4,
 "nbformat_minor": 4
}