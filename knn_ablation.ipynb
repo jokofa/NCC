{
 "cells": [
  {
   "cell_type": "markdown",
   "source": [
    "## Ablation Experiment"
   ],
   "metadata": {
    "collapsed": false
   }
  },
  {
   "cell_type": "code",
   "execution_count": 1,
   "outputs": [],
   "source": [
    "%load_ext autoreload\n",
    "%autoreload 2\n",
    "%matplotlib inline"
   ],
   "metadata": {
    "collapsed": false
   }
  },
  {
   "cell_type": "code",
   "execution_count": 22,
   "outputs": [],
   "source": [
    "from copy import deepcopy\n",
    "import os\n",
    "import numpy as np\n",
    "import pandas as pd\n",
    "import torch\n",
    "from matplotlib import pyplot as plt\n",
    "import seaborn as sns\n",
    "\n",
    "from lib.problems import ProblemDataset, Generator, eval_cop, sub_sample\n",
    "from lib.utils import CCPInstance\n",
    "from baselines.utils import eval_method\n",
    "from lib.ltr.utils import load_model\n",
    "from lib.ltr.ccp.method import CKMeans"
   ],
   "metadata": {
    "collapsed": false
   }
  },
  {
   "cell_type": "markdown",
   "source": [
    "### Shanghai"
   ],
   "metadata": {
    "collapsed": false
   },
   "outputs": [],
   "execution_count": 1
  },
  {
   "cell_type": "code",
   "execution_count": 3,
   "outputs": [],
   "source": [
    "DSET = \"shanghai_telecom\" #\n",
    "CAP = 1.1\n",
    "DATA_PTH = f\"data/CCP/benchmark/{DSET}/data_norm_cap{CAP}_.dat\"\n",
    "COLS = [\"num_users\", \"x_coord\", \"y_coord\", \"normalized_workload\"]\n",
    "\n",
    "SAMPLING_METHOD = \"quadrant_rnd\"\n",
    "TRGT_SIZE = 50\n",
    "SIZE = 250\n",
    "\n",
    "SEED = 111\n",
    "N = 200\n",
    "WF = (1.5, 4.0)\n",
    "FULL_K = 40\n",
    "MAX_W = 0.2\n",
    "INF = float(\"inf\")\n",
    "\n",
    "save_pth = f\"./data/CCP/ablation/{DSET}_{N}\"\n",
    "fname = f\"abl_n{N}_s{TRGT_SIZE}_cap{str(CAP).replace('.', '_')}_seed{SEED}\"\n",
    "\n",
    "os.makedirs(save_pth, exist_ok=True)"
   ],
   "metadata": {
    "collapsed": false
   }
  },
  {
   "cell_type": "code",
   "execution_count": 4,
   "outputs": [
    {
     "name": "stdout",
     "output_type": "stream",
     "text": [
      "2373\n"
     ]
    }
   ],
   "source": [
    "# load original data\n",
    "data = torch.load(DATA_PTH)\n",
    "print(len(data))\n",
    "xyw = data[:, 1:]\n",
    "rng = np.random.RandomState(SEED)\n"
   ],
   "metadata": {
    "collapsed": false
   }
  },
  {
   "cell_type": "code",
   "execution_count": 5,
   "outputs": [],
   "source": [
    "samples = sub_sample(\n",
    "    deepcopy(xyw),\n",
    "    size=SIZE,\n",
    "    n=N,\n",
    "    rng=rng,\n",
    "    method=SAMPLING_METHOD,\n",
    "    weight_factor=WF,\n",
    "    max_weight=MAX_W\n",
    ")\n",
    "# convert to CCPInstances\n",
    "instances = [\n",
    "    CCPInstance(\n",
    "        coords=s[:, :2],\n",
    "        demands=s[:, -1],\n",
    "        graph_size=N,\n",
    "        constraint_value=1.0,\n",
    "        )\n",
    "    for s in samples\n",
    "]\n",
    "\n"
   ],
   "metadata": {
    "collapsed": false
   }
  },
  {
   "cell_type": "code",
   "execution_count": 6,
   "outputs": [],
   "source": [
    "K_NOT_KNOWN = False\n",
    "CUDA = False\n",
    "NSEEDS = 1\n",
    "NUM_INIT = 8\n",
    "ITERS = 50\n",
    "TOL = 0.0   # no early stopping\n",
    "SAVE_DIR = os.path.join(save_pth, fname)"
   ],
   "metadata": {
    "collapsed": false
   }
  },
  {
   "cell_type": "code",
   "execution_count": 7,
   "outputs": [],
   "source": [
    "metrics = {}\n",
    "RESULTS = {}\n",
    "seeds = [SEED * i for i in range(1,4)]\n",
    "ds = ProblemDataset(problem=\"ccp\", seed=SEED)\n",
    "ds.size = len(instances)\n",
    "ds.data = instances\n"
   ],
   "metadata": {
    "collapsed": false
   }
  },
  {
   "cell_type": "code",
   "execution_count": 8,
   "outputs": [
    {
     "data": {
      "text/plain": "CCPInstance( coords=ndarray_[200, 2],  demands=ndarray_[200],  graph_size=200,  constraint_value=1.0,  labels=None,  num_components=12)"
     },
     "execution_count": 8,
     "metadata": {},
     "output_type": "execute_result"
    }
   ],
   "source": [
    "## reload\n",
    "\n",
    "def to_instance(d: dict):\n",
    "    d.pop(\"problem\")\n",
    "    d.pop(\"size\")\n",
    "    gs = int(d['graph_size'])\n",
    "    d['graph_size'] = gs\n",
    "    d['constraint_value'] = float(d['constraint_value'])\n",
    "    d['num_components'] = int(d['num_components'])\n",
    "    d['coords'] = d['coords'].reshape(gs, 2)\n",
    "    d['demands'] = d['demands'].reshape(gs)\n",
    "    return CCPInstance(**d)\n",
    "\n",
    "all_res = torch.load(\"data/CCP/ablation/shanghai_telecom_200/abl_n200_s50_cap1_1_seed999/ncc_greedy/eval_results_full_1.pkl\")\n",
    "data = [to_instance(e['instance']) for e in all_res]\n",
    "ds.size = len(data)\n",
    "ds.data = data\n",
    "ds.data[0]"
   ],
   "metadata": {
    "collapsed": false
   }
  },
  {
   "cell_type": "code",
   "execution_count": 9,
   "outputs": [],
   "source": [
    "# checkpoints for different K in KNN\n",
    "CKPTS = {\n",
    "10: \"outputs/ablation/shanghai_tel_ccp_200/gnn_pool_pointwise/2023-03-21_08-44-36_500369/checkpoints/epoch=197_val_acc=0.9796.ckpt\",\n",
    "25: \"outputs/ablation/shanghai_tel_ccp_200/gnn_pool_pointwise/2023-03-21_16-24-10_812025/checkpoints/epoch=190_val_acc=0.9794.ckpt\",\n",
    "50: \"outputs/ablation/shanghai_tel_ccp_200/gnn_pool_pointwise/2023-03-21_17-04-42_231773/checkpoints/epoch=194_val_acc=0.9795.ckpt\"\n",
    "}"
   ],
   "metadata": {
    "collapsed": false
   }
  },
  {
   "cell_type": "code",
   "execution_count": 10,
   "outputs": [
    {
     "name": "stdout",
     "output_type": "stream",
     "text": [
      "loading model checkpoint: outputs/ablation/shanghai_tel_ccp_200/gnn_pool_pointwise/2023-03-21_08-44-36_500369/checkpoints/epoch=197_val_acc=0.9796.ckpt\n",
      "evaluating baseline: 'ncc_greedy'\n",
      "loaded test data: ccp200 -> \n",
      "running method for 3 seeds on 50 instances...\n",
      "Running eval for seed 111...\n"
     ]
    },
    {
     "name": "stderr",
     "output_type": "stream",
     "text": [
      "100%|██████████| 50/50 [01:58<00:00,  2.37s/it]\n"
     ]
    },
    {
     "name": "stdout",
     "output_type": "stream",
     "text": [
      "Running eval for seed 222...\n"
     ]
    },
    {
     "name": "stderr",
     "output_type": "stream",
     "text": [
      "100%|██████████| 50/50 [01:55<00:00,  2.31s/it]\n"
     ]
    },
    {
     "name": "stdout",
     "output_type": "stream",
     "text": [
      "Running eval for seed 333...\n"
     ]
    },
    {
     "name": "stderr",
     "output_type": "stream",
     "text": [
      "100%|██████████| 50/50 [01:55<00:00,  2.30s/it]\n"
     ]
    },
    {
     "name": "stdout",
     "output_type": "stream",
     "text": [
      "-----------------------------------------\n",
      "ncc_greedy_10 summary: {'center_dist_mean': 0.5550157378150639, 'center_dist_std': 0.0, 'nc_mean': 8.66, 'nc_std': 2.5108564275959706, 'nc_median': 9.0, 'run_time_mean': 2.3257552177065617, 'run_time_total': 348.8632826559842, 'num_infeasible': 0}\n",
      "loading model checkpoint: outputs/ablation/shanghai_tel_ccp_200/gnn_pool_pointwise/2023-03-21_16-24-10_812025/checkpoints/epoch=190_val_acc=0.9794.ckpt\n",
      "evaluating baseline: 'ncc_greedy'\n",
      "loaded test data: ccp200 -> \n",
      "running method for 3 seeds on 50 instances...\n",
      "Running eval for seed 111...\n"
     ]
    },
    {
     "name": "stderr",
     "output_type": "stream",
     "text": [
      "100%|██████████| 50/50 [02:06<00:00,  2.54s/it]\n"
     ]
    },
    {
     "name": "stdout",
     "output_type": "stream",
     "text": [
      "Running eval for seed 222...\n"
     ]
    },
    {
     "name": "stderr",
     "output_type": "stream",
     "text": [
      "100%|██████████| 50/50 [02:07<00:00,  2.56s/it]\n"
     ]
    },
    {
     "name": "stdout",
     "output_type": "stream",
     "text": [
      "Running eval for seed 333...\n"
     ]
    },
    {
     "name": "stderr",
     "output_type": "stream",
     "text": [
      "100%|██████████| 50/50 [02:07<00:00,  2.54s/it]\n"
     ]
    },
    {
     "name": "stdout",
     "output_type": "stream",
     "text": [
      "-----------------------------------------\n",
      "ncc_greedy_25 summary: {'center_dist_mean': 0.5506750441212112, 'center_dist_std': 0.0, 'nc_mean': 8.66, 'nc_std': 2.5108564275959706, 'nc_median': 9.0, 'run_time_mean': 2.5450580600268826, 'run_time_total': 381.7587090040324, 'num_infeasible': 0}\n",
      "loading model checkpoint: outputs/ablation/shanghai_tel_ccp_200/gnn_pool_pointwise/2023-03-21_17-04-42_231773/checkpoints/epoch=194_val_acc=0.9795.ckpt\n",
      "evaluating baseline: 'ncc_greedy'\n",
      "loaded test data: ccp200 -> \n",
      "running method for 3 seeds on 50 instances...\n",
      "Running eval for seed 111...\n"
     ]
    },
    {
     "name": "stderr",
     "output_type": "stream",
     "text": [
      "100%|██████████| 50/50 [02:26<00:00,  2.94s/it]\n"
     ]
    },
    {
     "name": "stdout",
     "output_type": "stream",
     "text": [
      "Running eval for seed 222...\n"
     ]
    },
    {
     "name": "stderr",
     "output_type": "stream",
     "text": [
      "100%|██████████| 50/50 [02:27<00:00,  2.95s/it]\n"
     ]
    },
    {
     "name": "stdout",
     "output_type": "stream",
     "text": [
      "Running eval for seed 333...\n"
     ]
    },
    {
     "name": "stderr",
     "output_type": "stream",
     "text": [
      "100%|██████████| 50/50 [02:28<00:00,  2.97s/it]"
     ]
    },
    {
     "name": "stdout",
     "output_type": "stream",
     "text": [
      "-----------------------------------------\n",
      "ncc_greedy_50 summary: {'center_dist_mean': 0.546779543320701, 'center_dist_std': 0.0, 'nc_mean': 8.66, 'nc_std': 2.5108564275959706, 'nc_median': 9.0, 'run_time_mean': 2.950066822659234, 'run_time_total': 442.5100233988851, 'num_infeasible': 0}\n"
     ]
    },
    {
     "name": "stderr",
     "output_type": "stream",
     "text": [
      "\n"
     ]
    }
   ],
   "source": [
    "# greedily assigns the last 'opt_last_frac' fraction of total nodes\n",
    "# ordered by their absolute priority to the closest center\n",
    "\n",
    "mthd = \"ncc_greedy\"\n",
    "for knn, ckpt in CKPTS.items():\n",
    "    model = load_model(\"ccp\", ckpt)\n",
    "    m_id = f\"{mthd}_{knn}{'_cuda' if CUDA else ''}\"\n",
    "\n",
    "    ckmeans = CKMeans(\n",
    "        model=model,\n",
    "        seed=SEED,\n",
    "        verbose=False,\n",
    "        ###\n",
    "        num_init=NUM_INIT,\n",
    "        max_iter=ITERS,\n",
    "        tol=TOL,\n",
    "        init_method=\"ckm++\",\n",
    "        nbh_knn=int(knn),\n",
    "        ###\n",
    "        vanilla_priority=False,\n",
    "        opt_last_frac=0.25, #7,\n",
    "        opt_last_samples=1, # no multiple samples\n",
    "        opt_last_prio=True\n",
    "    )\n",
    "\n",
    "    result, smry = eval_method(\n",
    "        method=ckmeans.inference,\n",
    "        dataset=ds,\n",
    "        seeds=seeds,\n",
    "        save_dir=SAVE_DIR,\n",
    "        cuda=CUDA,\n",
    "        k_not_known=K_NOT_KNOWN,\n",
    "        method_str=mthd,\n",
    "    )\n",
    "    RESULTS[m_id] = result\n",
    "    # check if there are any infeasible instances and replace cost with base cost\n",
    "    res = deepcopy(result)\n",
    "    costs = np.array([r['tot_center_dist'] for r in res])\n",
    "    costs = costs.reshape(NSEEDS, -1)\n",
    "    smry['center_dist_mean'] = np.mean(costs)\n",
    "    smry['center_dist_std'] = np.mean(np.std(costs, axis=0))\n",
    "    print(f\"{m_id} summary: {smry}\")\n",
    "    metrics[m_id] = smry"
   ],
   "metadata": {
    "collapsed": false
   }
  },
  {
   "cell_type": "code",
   "execution_count": 12,
   "outputs": [
    {
     "name": "stdout",
     "output_type": "stream",
     "text": [
      "loading model checkpoint: outputs/ablation/shanghai_tel_ccp_200/gnn_pool_pointwise/2023-03-21_08-44-36_500369/checkpoints/epoch=197_val_acc=0.9796.ckpt\n",
      "evaluating baseline: 'ncc_samp'\n",
      "loaded test data: ccp200 -> \n",
      "running method for 3 seeds on 50 instances...\n",
      "Running eval for seed 111...\n"
     ]
    },
    {
     "name": "stderr",
     "output_type": "stream",
     "text": [
      "100%|██████████| 50/50 [02:26<00:00,  2.93s/it]\n"
     ]
    },
    {
     "name": "stdout",
     "output_type": "stream",
     "text": [
      "Running eval for seed 222...\n"
     ]
    },
    {
     "name": "stderr",
     "output_type": "stream",
     "text": [
      "100%|██████████| 50/50 [02:24<00:00,  2.88s/it]\n"
     ]
    },
    {
     "name": "stdout",
     "output_type": "stream",
     "text": [
      "Running eval for seed 333...\n"
     ]
    },
    {
     "name": "stderr",
     "output_type": "stream",
     "text": [
      "100%|██████████| 50/50 [02:23<00:00,  2.87s/it]\n"
     ]
    },
    {
     "name": "stdout",
     "output_type": "stream",
     "text": [
      "-----------------------------------------\n",
      "ncc_samp_10 summary: {'center_dist_mean': 0.5545545584186689, 'center_dist_std': 0.0, 'nc_mean': 8.66, 'nc_std': 2.5108564275959706, 'nc_median': 9.0, 'run_time_mean': 2.8928770776469417, 'run_time_total': 433.93156164704124, 'num_infeasible': 0}\n",
      "loading model checkpoint: outputs/ablation/shanghai_tel_ccp_200/gnn_pool_pointwise/2023-03-21_16-24-10_812025/checkpoints/epoch=190_val_acc=0.9794.ckpt\n",
      "evaluating baseline: 'ncc_samp'\n",
      "loaded test data: ccp200 -> \n",
      "running method for 3 seeds on 50 instances...\n",
      "Running eval for seed 111...\n"
     ]
    },
    {
     "name": "stderr",
     "output_type": "stream",
     "text": [
      "100%|██████████| 50/50 [02:35<00:00,  3.10s/it]\n"
     ]
    },
    {
     "name": "stdout",
     "output_type": "stream",
     "text": [
      "Running eval for seed 222...\n"
     ]
    },
    {
     "name": "stderr",
     "output_type": "stream",
     "text": [
      "100%|██████████| 50/50 [02:35<00:00,  3.11s/it]\n"
     ]
    },
    {
     "name": "stdout",
     "output_type": "stream",
     "text": [
      "Running eval for seed 333...\n"
     ]
    },
    {
     "name": "stderr",
     "output_type": "stream",
     "text": [
      "100%|██████████| 50/50 [02:35<00:00,  3.11s/it]\n"
     ]
    },
    {
     "name": "stdout",
     "output_type": "stream",
     "text": [
      "-----------------------------------------\n",
      "ncc_samp_25 summary: {'center_dist_mean': 0.5395154114507923, 'center_dist_std': 0.0, 'nc_mean': 8.66, 'nc_std': 2.5108564275959706, 'nc_median': 9.0, 'run_time_mean': 3.1067432769599934, 'run_time_total': 466.011491543999, 'num_infeasible': 0}\n",
      "loading model checkpoint: outputs/ablation/shanghai_tel_ccp_200/gnn_pool_pointwise/2023-03-21_17-04-42_231773/checkpoints/epoch=194_val_acc=0.9795.ckpt\n",
      "evaluating baseline: 'ncc_samp'\n",
      "loaded test data: ccp200 -> \n",
      "running method for 3 seeds on 50 instances...\n",
      "Running eval for seed 111...\n"
     ]
    },
    {
     "name": "stderr",
     "output_type": "stream",
     "text": [
      "100%|██████████| 50/50 [02:54<00:00,  3.50s/it]\n"
     ]
    },
    {
     "name": "stdout",
     "output_type": "stream",
     "text": [
      "Running eval for seed 222...\n"
     ]
    },
    {
     "name": "stderr",
     "output_type": "stream",
     "text": [
      "100%|██████████| 50/50 [02:54<00:00,  3.49s/it]\n"
     ]
    },
    {
     "name": "stdout",
     "output_type": "stream",
     "text": [
      "Running eval for seed 333...\n"
     ]
    },
    {
     "name": "stderr",
     "output_type": "stream",
     "text": [
      "100%|██████████| 50/50 [02:54<00:00,  3.50s/it]"
     ]
    },
    {
     "name": "stdout",
     "output_type": "stream",
     "text": [
      "-----------------------------------------\n",
      "ncc_samp_50 summary: {'center_dist_mean': 0.5421716625581292, 'center_dist_std': 0.0, 'nc_mean': 8.66, 'nc_std': 2.5108564275959706, 'nc_median': 9.0, 'run_time_mean': 3.4946570628401243, 'run_time_total': 524.1985594260186, 'num_infeasible': 0}\n"
     ]
    },
    {
     "name": "stderr",
     "output_type": "stream",
     "text": [
      "\n"
     ]
    },
    {
     "name": "stdout",
     "output_type": "stream",
     "text": [
      "loading model checkpoint: outputs/ablation/shanghai_tel_ccp_200/gnn_pool_pointwise/2023-03-21_08-44-36_500369/checkpoints/epoch=197_val_acc=0.9796.ckpt\n",
      "evaluating baseline: 'ncc_samp'\n",
      "loaded test data: ccp200 -> \n",
      "running method for 3 seeds on 50 instances...\n",
      "Running eval for seed 111...\n"
     ]
    },
    {
     "name": "stderr",
     "output_type": "stream",
     "text": [
      "100%|██████████| 50/50 [02:21<00:00,  2.83s/it]\n"
     ]
    },
    {
     "name": "stdout",
     "output_type": "stream",
     "text": [
      "Running eval for seed 222...\n"
     ]
    },
    {
     "name": "stderr",
     "output_type": "stream",
     "text": [
      "100%|██████████| 50/50 [02:21<00:00,  2.83s/it]\n"
     ]
    },
    {
     "name": "stdout",
     "output_type": "stream",
     "text": [
      "Running eval for seed 333...\n"
     ]
    },
    {
     "name": "stderr",
     "output_type": "stream",
     "text": [
      "100%|██████████| 50/50 [02:21<00:00,  2.83s/it]\n"
     ]
    },
    {
     "name": "stdout",
     "output_type": "stream",
     "text": [
      "-----------------------------------------\n",
      "ncc_samp_10 summary: {'center_dist_mean': 0.5545545584186689, 'center_dist_std': 0.0, 'nc_mean': 8.66, 'nc_std': 2.5108564275959706, 'nc_median': 9.0, 'run_time_mean': 2.828842935953192, 'run_time_total': 424.32644039297884, 'num_infeasible': 0}\n",
      "loading model checkpoint: outputs/ablation/shanghai_tel_ccp_200/gnn_pool_pointwise/2023-03-21_16-24-10_812025/checkpoints/epoch=190_val_acc=0.9794.ckpt\n",
      "evaluating baseline: 'ncc_samp'\n",
      "loaded test data: ccp200 -> \n",
      "running method for 3 seeds on 50 instances...\n",
      "Running eval for seed 111...\n"
     ]
    },
    {
     "name": "stderr",
     "output_type": "stream",
     "text": [
      "100%|██████████| 50/50 [02:33<00:00,  3.07s/it]\n"
     ]
    },
    {
     "name": "stdout",
     "output_type": "stream",
     "text": [
      "Running eval for seed 222...\n"
     ]
    },
    {
     "name": "stderr",
     "output_type": "stream",
     "text": [
      "100%|██████████| 50/50 [02:33<00:00,  3.06s/it]\n"
     ]
    },
    {
     "name": "stdout",
     "output_type": "stream",
     "text": [
      "Running eval for seed 333...\n"
     ]
    },
    {
     "name": "stderr",
     "output_type": "stream",
     "text": [
      "100%|██████████| 50/50 [02:38<00:00,  3.17s/it]\n"
     ]
    },
    {
     "name": "stdout",
     "output_type": "stream",
     "text": [
      "-----------------------------------------\n",
      "ncc_samp_25 summary: {'center_dist_mean': 0.5395154114507923, 'center_dist_std': 0.0, 'nc_mean': 8.66, 'nc_std': 2.5108564275959706, 'nc_median': 9.0, 'run_time_mean': 3.097812723279882, 'run_time_total': 464.6719084919823, 'num_infeasible': 0}\n",
      "loading model checkpoint: outputs/ablation/shanghai_tel_ccp_200/gnn_pool_pointwise/2023-03-21_17-04-42_231773/checkpoints/epoch=194_val_acc=0.9795.ckpt\n",
      "evaluating baseline: 'ncc_samp'\n",
      "loaded test data: ccp200 -> \n",
      "running method for 3 seeds on 50 instances...\n",
      "Running eval for seed 111...\n"
     ]
    },
    {
     "name": "stderr",
     "output_type": "stream",
     "text": [
      "100%|██████████| 50/50 [02:58<00:00,  3.57s/it]\n"
     ]
    },
    {
     "name": "stdout",
     "output_type": "stream",
     "text": [
      "Running eval for seed 222...\n"
     ]
    },
    {
     "name": "stderr",
     "output_type": "stream",
     "text": [
      "100%|██████████| 50/50 [02:51<00:00,  3.44s/it]\n"
     ]
    },
    {
     "name": "stdout",
     "output_type": "stream",
     "text": [
      "Running eval for seed 333...\n"
     ]
    },
    {
     "name": "stderr",
     "output_type": "stream",
     "text": [
      "100%|██████████| 50/50 [02:51<00:00,  3.43s/it]"
     ]
    },
    {
     "name": "stdout",
     "output_type": "stream",
     "text": [
      "-----------------------------------------\n",
      "ncc_samp_50 summary: {'center_dist_mean': 0.5421716625581292, 'center_dist_std': 0.0, 'nc_mean': 8.66, 'nc_std': 2.5108564275959706, 'nc_median': 9.0, 'run_time_mean': 3.475987292446613, 'run_time_total': 521.398093866992, 'num_infeasible': 0}\n"
     ]
    },
    {
     "name": "stderr",
     "output_type": "stream",
     "text": [
      "\n"
     ]
    }
   ],
   "source": [
    "# samples multiple assignments for the last 'opt_last_frac' fraction of total nodes\n",
    "# and selects the best one\n",
    "\n",
    "mthd = \"ncc_samp\"\n",
    "for knn, ckpt in CKPTS.items():\n",
    "    model = load_model(\"ccp\", ckpt)\n",
    "    m_id = f\"{mthd}_{knn}{'_cuda' if CUDA else ''}\"\n",
    "\n",
    "    ckmeans = CKMeans(\n",
    "        model=model,\n",
    "        seed=SEED,\n",
    "        verbose=False,\n",
    "        ###\n",
    "        num_init=NUM_INIT,\n",
    "        max_iter=ITERS,\n",
    "        tol=TOL,\n",
    "        init_method=\"ckm++\",\n",
    "        nbh_knn=int(knn),\n",
    "        ###\n",
    "        vanilla_priority=False,\n",
    "        opt_last_frac=0.25, #,\n",
    "        opt_last_samples=32, #64,\n",
    "        opt_last_prio=True\n",
    "    )\n",
    "\n",
    "    result, smry = eval_method(\n",
    "        method=ckmeans.inference,\n",
    "        dataset=ds,\n",
    "        seeds=seeds,\n",
    "        save_dir=SAVE_DIR,\n",
    "        cuda=CUDA,\n",
    "        k_not_known=K_NOT_KNOWN,\n",
    "        method_str=mthd,\n",
    "    )\n",
    "    RESULTS[m_id] = result\n",
    "    # check if there are any infeasible instances and replace cost with base cost\n",
    "    res = deepcopy(result)\n",
    "    costs = np.array([r['tot_center_dist'] for r in res])\n",
    "    costs = costs.reshape(NSEEDS, -1)\n",
    "    smry['center_dist_mean'] = np.mean(costs)\n",
    "    smry['center_dist_std'] = np.mean(np.std(costs, axis=0))\n",
    "    print(f\"{m_id} summary: {smry}\")\n",
    "    metrics[m_id] = smry"
   ],
   "metadata": {
    "collapsed": false
   }
  },
  {
   "cell_type": "code",
   "execution_count": 13,
   "outputs": [
    {
     "data": {
      "text/plain": "                  ncc_greedy_10  ncc_greedy_25  ncc_greedy_50  ncc_samp_10  \\\ncenter_dist_mean       0.555016       0.550675       0.546780     0.554555   \ncenter_dist_std        0.000000       0.000000       0.000000     0.000000   \nnc_mean                8.660000       8.660000       8.660000     8.660000   \nnc_std                 2.510856       2.510856       2.510856     2.510856   \nnc_median              9.000000       9.000000       9.000000     9.000000   \nrun_time_mean          2.325755       2.545058       2.950067     2.828843   \nrun_time_total       348.863283     381.758709     442.510023   424.326440   \nnum_infeasible         0.000000       0.000000       0.000000     0.000000   \n\n                  ncc_samp_25  ncc_samp_50  \ncenter_dist_mean     0.539515     0.542172  \ncenter_dist_std      0.000000     0.000000  \nnc_mean              8.660000     8.660000  \nnc_std               2.510856     2.510856  \nnc_median            9.000000     9.000000  \nrun_time_mean        3.097813     3.475987  \nrun_time_total     464.671908   521.398094  \nnum_infeasible       0.000000     0.000000  ",
      "text/html": "<div>\n<style scoped>\n    .dataframe tbody tr th:only-of-type {\n        vertical-align: middle;\n    }\n\n    .dataframe tbody tr th {\n        vertical-align: top;\n    }\n\n    .dataframe thead th {\n        text-align: right;\n    }\n</style>\n<table border=\"1\" class=\"dataframe\">\n  <thead>\n    <tr style=\"text-align: right;\">\n      <th></th>\n      <th>ncc_greedy_10</th>\n      <th>ncc_greedy_25</th>\n      <th>ncc_greedy_50</th>\n      <th>ncc_samp_10</th>\n      <th>ncc_samp_25</th>\n      <th>ncc_samp_50</th>\n    </tr>\n  </thead>\n  <tbody>\n    <tr>\n      <th>center_dist_mean</th>\n      <td>0.555016</td>\n      <td>0.550675</td>\n      <td>0.546780</td>\n      <td>0.554555</td>\n      <td>0.539515</td>\n      <td>0.542172</td>\n    </tr>\n    <tr>\n      <th>center_dist_std</th>\n      <td>0.000000</td>\n      <td>0.000000</td>\n      <td>0.000000</td>\n      <td>0.000000</td>\n      <td>0.000000</td>\n      <td>0.000000</td>\n    </tr>\n    <tr>\n      <th>nc_mean</th>\n      <td>8.660000</td>\n      <td>8.660000</td>\n      <td>8.660000</td>\n      <td>8.660000</td>\n      <td>8.660000</td>\n      <td>8.660000</td>\n    </tr>\n    <tr>\n      <th>nc_std</th>\n      <td>2.510856</td>\n      <td>2.510856</td>\n      <td>2.510856</td>\n      <td>2.510856</td>\n      <td>2.510856</td>\n      <td>2.510856</td>\n    </tr>\n    <tr>\n      <th>nc_median</th>\n      <td>9.000000</td>\n      <td>9.000000</td>\n      <td>9.000000</td>\n      <td>9.000000</td>\n      <td>9.000000</td>\n      <td>9.000000</td>\n    </tr>\n    <tr>\n      <th>run_time_mean</th>\n      <td>2.325755</td>\n      <td>2.545058</td>\n      <td>2.950067</td>\n      <td>2.828843</td>\n      <td>3.097813</td>\n      <td>3.475987</td>\n    </tr>\n    <tr>\n      <th>run_time_total</th>\n      <td>348.863283</td>\n      <td>381.758709</td>\n      <td>442.510023</td>\n      <td>424.326440</td>\n      <td>464.671908</td>\n      <td>521.398094</td>\n    </tr>\n    <tr>\n      <th>num_infeasible</th>\n      <td>0.000000</td>\n      <td>0.000000</td>\n      <td>0.000000</td>\n      <td>0.000000</td>\n      <td>0.000000</td>\n      <td>0.000000</td>\n    </tr>\n  </tbody>\n</table>\n</div>"
     },
     "execution_count": 13,
     "metadata": {},
     "output_type": "execute_result"
    }
   ],
   "source": [
    "# convert to dataframe for nice table ;)\n",
    "metric_df = pd.DataFrame(metrics)\n",
    "metric_df\n"
   ],
   "metadata": {
    "collapsed": false
   }
  },
  {
   "cell_type": "code",
   "execution_count": 14,
   "outputs": [],
   "source": [
    "metric_df.to_csv(\"outputs_eval/ablation_knn/results.csv\", mode=\"w+\")"
   ],
   "metadata": {
    "collapsed": false
   }
  },
  {
   "cell_type": "code",
   "execution_count": 44,
   "outputs": [
    {
     "data": {
      "text/plain": "[10, 25, 50, 10, 25, 50]"
     },
     "execution_count": 44,
     "metadata": {},
     "output_type": "execute_result"
    }
   ],
   "source": [
    "ks = [int(c[-2:]) for c in metric_df.columns]\n",
    "ks"
   ],
   "metadata": {
    "collapsed": false
   }
  },
  {
   "cell_type": "code",
   "execution_count": 50,
   "outputs": [
    {
     "data": {
      "text/plain": "['greedy', 'greedy', 'greedy', 'sampling', 'sampling', 'sampling']"
     },
     "execution_count": 50,
     "metadata": {},
     "output_type": "execute_result"
    }
   ],
   "source": [
    "mthd_type = [\"greedy\" if \"greedy\" in c else \"sampling\" for c in metric_df.columns]\n",
    "mthd_type"
   ],
   "metadata": {
    "collapsed": false
   }
  },
  {
   "cell_type": "code",
   "execution_count": 51,
   "outputs": [],
   "source": [
    "dist_df = metric_df.iloc[0, :].to_frame()"
   ],
   "metadata": {
    "collapsed": false
   }
  },
  {
   "cell_type": "code",
   "execution_count": 52,
   "outputs": [],
   "source": [
    "dist_df.insert(1, \"k\", ks)\n",
    "dist_df.insert(2, \"method\", mthd_type)"
   ],
   "metadata": {
    "collapsed": false
   }
  },
  {
   "cell_type": "code",
   "execution_count": 53,
   "outputs": [
    {
     "data": {
      "text/plain": "               center_dist_mean   k    method\nncc_greedy_10          0.555016  10    greedy\nncc_greedy_25          0.550675  25    greedy\nncc_greedy_50          0.546780  50    greedy\nncc_samp_10            0.554555  10  sampling\nncc_samp_25            0.539515  25  sampling\nncc_samp_50            0.542172  50  sampling",
      "text/html": "<div>\n<style scoped>\n    .dataframe tbody tr th:only-of-type {\n        vertical-align: middle;\n    }\n\n    .dataframe tbody tr th {\n        vertical-align: top;\n    }\n\n    .dataframe thead th {\n        text-align: right;\n    }\n</style>\n<table border=\"1\" class=\"dataframe\">\n  <thead>\n    <tr style=\"text-align: right;\">\n      <th></th>\n      <th>center_dist_mean</th>\n      <th>k</th>\n      <th>method</th>\n    </tr>\n  </thead>\n  <tbody>\n    <tr>\n      <th>ncc_greedy_10</th>\n      <td>0.555016</td>\n      <td>10</td>\n      <td>greedy</td>\n    </tr>\n    <tr>\n      <th>ncc_greedy_25</th>\n      <td>0.550675</td>\n      <td>25</td>\n      <td>greedy</td>\n    </tr>\n    <tr>\n      <th>ncc_greedy_50</th>\n      <td>0.546780</td>\n      <td>50</td>\n      <td>greedy</td>\n    </tr>\n    <tr>\n      <th>ncc_samp_10</th>\n      <td>0.554555</td>\n      <td>10</td>\n      <td>sampling</td>\n    </tr>\n    <tr>\n      <th>ncc_samp_25</th>\n      <td>0.539515</td>\n      <td>25</td>\n      <td>sampling</td>\n    </tr>\n    <tr>\n      <th>ncc_samp_50</th>\n      <td>0.542172</td>\n      <td>50</td>\n      <td>sampling</td>\n    </tr>\n  </tbody>\n</table>\n</div>"
     },
     "execution_count": 53,
     "metadata": {},
     "output_type": "execute_result"
    }
   ],
   "source": [
    "dist_df"
   ],
   "metadata": {
    "collapsed": false
   }
  },
  {
   "cell_type": "code",
   "execution_count": 57,
   "outputs": [
    {
     "data": {
      "text/plain": "<AxesSubplot:xlabel='k', ylabel='center_dist_mean'>"
     },
     "execution_count": 57,
     "metadata": {},
     "output_type": "execute_result"
    },
    {
     "data": {
      "text/plain": "<Figure size 640x480 with 1 Axes>",
      "image/png": "[encoded data removed]"
     },
     "metadata": {},
     "output_type": "display_data"
    }
   ],
   "source": [
    "sns.set_theme()\n",
    "sns.lineplot(data=dist_df, x=\"k\", y=\"center_dist_mean\", style=\"method\", markers=True)"
   ],
   "metadata": {
    "collapsed": false
   }
  },
  {
   "cell_type": "code",
   "execution_count": 58,
   "outputs": [
    {
     "data": {
      "text/plain": "               run_time_mean   k    method\nncc_greedy_10       2.325755  10    greedy\nncc_greedy_25       2.545058  25    greedy\nncc_greedy_50       2.950067  50    greedy\nncc_samp_10         2.828843  10  sampling\nncc_samp_25         3.097813  25  sampling\nncc_samp_50         3.475987  50  sampling",
      "text/html": "<div>\n<style scoped>\n    .dataframe tbody tr th:only-of-type {\n        vertical-align: middle;\n    }\n\n    .dataframe tbody tr th {\n        vertical-align: top;\n    }\n\n    .dataframe thead th {\n        text-align: right;\n    }\n</style>\n<table border=\"1\" class=\"dataframe\">\n  <thead>\n    <tr style=\"text-align: right;\">\n      <th></th>\n      <th>run_time_mean</th>\n      <th>k</th>\n      <th>method</th>\n    </tr>\n  </thead>\n  <tbody>\n    <tr>\n      <th>ncc_greedy_10</th>\n      <td>2.325755</td>\n      <td>10</td>\n      <td>greedy</td>\n    </tr>\n    <tr>\n      <th>ncc_greedy_25</th>\n      <td>2.545058</td>\n      <td>25</td>\n      <td>greedy</td>\n    </tr>\n    <tr>\n      <th>ncc_greedy_50</th>\n      <td>2.950067</td>\n      <td>50</td>\n      <td>greedy</td>\n    </tr>\n    <tr>\n      <th>ncc_samp_10</th>\n      <td>2.828843</td>\n      <td>10</td>\n      <td>sampling</td>\n    </tr>\n    <tr>\n      <th>ncc_samp_25</th>\n      <td>3.097813</td>\n      <td>25</td>\n      <td>sampling</td>\n    </tr>\n    <tr>\n      <th>ncc_samp_50</th>\n      <td>3.475987</td>\n      <td>50</td>\n      <td>sampling</td>\n    </tr>\n  </tbody>\n</table>\n</div>"
     },
     "execution_count": 58,
     "metadata": {},
     "output_type": "execute_result"
    }
   ],
   "source": [
    "rt_df = metric_df.iloc[5, :].to_frame()\n",
    "rt_df.insert(1, \"k\", ks)\n",
    "rt_df.insert(2, \"method\", mthd_type)\n",
    "rt_df"
   ],
   "metadata": {
    "collapsed": false
   }
  },
  {
   "cell_type": "code",
   "execution_count": 59,
   "outputs": [
    {
     "data": {
      "text/plain": "<AxesSubplot:xlabel='k', ylabel='run_time_mean'>"
     },
     "execution_count": 59,
     "metadata": {},
     "output_type": "execute_result"
    },
    {
     "data": {
      "text/plain": "<Figure size 640x480 with 1 Axes>",
      "image/png": "[encoded data removed]"
     },
     "metadata": {},
     "output_type": "display_data"
    }
   ],
   "source": [
    "sns.set_theme()\n",
    "sns.lineplot(data=rt_df, x=\"k\", y=\"run_time_mean\", style=\"method\", markers=True)"
   ],
   "metadata": {
    "collapsed": false
   }
  },
  {
   "cell_type": "code",
   "execution_count": null,
   "outputs": [],
   "source": [],
   "metadata": {
    "collapsed": false
   }
  }
 ],
 "metadata": {
  "kernelspec": {
   "display_name": "Python 3 (ipykernel)",
   "language": "python",
   "name": "python3"
  },
  "language_info": {
   "codemirror_mode": {
    "name": "ipython",
    "version": 3
   },
   "file_extension": ".py",
   "mimetype": "text/x-python",
   "name": "python",
   "nbconvert_exporter": "python",
   "pygments_lexer": "ipython3",
   "version": "3.9.12"
  }
 },
 "nbformat": 4,
 "nbformat_minor": 1
}
