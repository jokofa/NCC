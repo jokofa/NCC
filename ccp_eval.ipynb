{
 "cells": [
  {
   "cell_type": "markdown",
   "source": [
    "## Do full evaluation on CCP"
   ],
   "metadata": {
    "collapsed": false
   }
  },
  {
   "cell_type": "code",
   "execution_count": null,
   "outputs": [],
   "source": [
    "%load_ext autoreload\n",
    "%autoreload 2\n",
    "%matplotlib inline"
   ],
   "metadata": {
    "collapsed": false,
    "pycharm": {
     "name": "#%%\n"
    }
   }
  },
  {
   "cell_type": "code",
   "execution_count": null,
   "outputs": [],
   "source": [
    "from copy import deepcopy\n",
    "import os\n",
    "import json\n",
    "import numpy as np\n",
    "import pandas as pd\n",
    "\n",
    "from lib.problems import ProblemDataset\n",
    "from baselines.utils import eval_method\n",
    "from baselines.CPP import methods_registry\n",
    "from baselines.CPP.methods_registry import CUDA_METHODS\n",
    "from lib.ltr.utils import load_model\n",
    "from lib.ltr.ccp.method import CKMeans"
   ],
   "metadata": {
    "collapsed": false,
    "pycharm": {
     "name": "#%%\n"
    }
   }
  },
  {
   "cell_type": "code",
   "execution_count": null,
   "outputs": [],
   "source": [
    "SIZE = 100\n",
    "SEED = 1\n",
    "NSEEDS = 3\n",
    "CUDA = False\n",
    "K_NOT_KNOWN = False\n",
    "N = 200\n",
    "CORES = 4\n",
    "T_LIM = 180     # 3min\n",
    "\n",
    "SAVE_DIR = f\"./outputs_eval/ccp{N}/\"\n",
    "BL_DIR = os.path.join(SAVE_DIR, \"baselines\")\n",
    "M_DIR = os.path.join(SAVE_DIR, \"model\")\n",
    "smp_cfg = {\"sample_size\": SIZE}\n",
    "INF = float(\"inf\")\n",
    "\n",
    "DS_PTH = f\"data/CCP/CCP{N}/test_gm_n{N}_k3-12_s100_cap1_1_seed4321.npz\"\n",
    "CKPT = \"outputs/final/ccp_200/gnn_pool_pointwise/2023-01-09_11-19-49_057495/checkpoints/epoch=198_val_acc=0.9858.ckpt\"\n",
    "NUM_INIT = 8"
   ],
   "metadata": {
    "collapsed": false,
    "pycharm": {
     "name": "#%%\n"
    }
   }
  },
  {
   "cell_type": "code",
   "execution_count": null,
   "outputs": [],
   "source": [
    "metrics = {}\n",
    "RESULTS = {}\n",
    "seeds = [SEED+i for i in range(NSEEDS)]\n",
    "ds = ProblemDataset(problem=\"CCP\", seed=SEED, data_pth=DS_PTH)\n",
    "ds = ds.sample(**smp_cfg)"
   ],
   "metadata": {
    "collapsed": false,
    "pycharm": {
     "name": "#%%\n"
    }
   }
  },
  {
   "cell_type": "code",
   "execution_count": null,
   "outputs": [],
   "source": [
    "mthd = \"random_select\"\n",
    "result, smry = eval_method(\n",
    "    method=getattr(methods_registry, mthd),\n",
    "    dataset=ds,\n",
    "    seeds=seeds,\n",
    "    save_dir=BL_DIR,\n",
    "    cuda=CUDA,\n",
    "    k_not_known=K_NOT_KNOWN,\n",
    "    sample_cfg=smp_cfg,\n",
    "    method_str=mthd,\n",
    ")\n",
    "m_id = f\"{mthd}{'_cuda' if CUDA and mthd in CUDA_METHODS else ''}\"\n",
    "RESULTS[m_id] = result\n",
    "print(smry)\n",
    "metrics[m_id] = smry\n",
    "#"
   ],
   "metadata": {
    "collapsed": false,
    "pycharm": {
     "name": "#%%\n"
    }
   }
  },
  {
   "cell_type": "code",
   "execution_count": null,
   "outputs": [],
   "source": [
    "mthd = \"random_center_knn\"\n",
    "#if not CUDA or CUDA and mthd in CUDA_METHODS:\n",
    "result, smry = eval_method(\n",
    "    method=getattr(methods_registry, mthd),\n",
    "    dataset=ds,\n",
    "    seeds=seeds,\n",
    "    save_dir=BL_DIR,\n",
    "    cuda=CUDA,\n",
    "    k_not_known=K_NOT_KNOWN,\n",
    "    sample_cfg=smp_cfg,\n",
    "    method_str=mthd,\n",
    "    verbose=False,\n",
    ")\n",
    "m_id = f\"{mthd}{'_cuda' if CUDA and mthd in CUDA_METHODS else ''}\"\n",
    "RESULTS[m_id] = result\n",
    "rnd_res = deepcopy(result)\n",
    "costs = np.array([r['tot_center_dist'] for r in rnd_res])\n",
    "max_cost = costs[costs != INF].max()\n",
    "costs = costs.reshape(NSEEDS, -1)\n",
    "is_inf = np.all(costs == INF, axis=0)\n",
    "print(f\"inf: {is_inf.sum()}\")\n",
    "rnd_mean_cost = np.nanmean(costs, axis=0)\n",
    "rnd_mean_cost[is_inf] = max_cost\n",
    "#print(rnd_mean_cost)\n",
    "smry['center_dist_mean'] = rnd_mean_cost.mean()\n",
    "print(smry)\n",
    "metrics[m_id] = smry"
   ],
   "metadata": {
    "collapsed": false,
    "pycharm": {
     "name": "#%%\n"
    }
   }
  },
  {
   "cell_type": "code",
   "execution_count": null,
   "outputs": [],
   "source": [
    "mthd = \"topk_center_knn\"\n",
    "if not CUDA or CUDA and mthd in CUDA_METHODS:\n",
    "    result, smry = eval_method(\n",
    "        method=getattr(methods_registry, mthd),\n",
    "        dataset=ds,\n",
    "        seeds=seeds,\n",
    "        save_dir=BL_DIR,\n",
    "        cuda=CUDA,\n",
    "        k_not_known=K_NOT_KNOWN,\n",
    "        sample_cfg=smp_cfg,\n",
    "        method_str=mthd,\n",
    "        verbose=False,\n",
    "    )\n",
    "    m_id = f\"{mthd}{'_cuda' if CUDA and mthd in CUDA_METHODS else ''}\"\n",
    "    RESULTS[m_id] = result\n",
    "    # replace infeasible runs with mean cost of random method\n",
    "    res = deepcopy(result)\n",
    "    costs = np.array([r['tot_center_dist'] for r in res])\n",
    "    costs = costs.reshape(NSEEDS, -1)\n",
    "    for i, c_rnd in enumerate(rnd_mean_cost):\n",
    "        inst_cost = costs[:, i]\n",
    "        inf_msk = inst_cost == INF\n",
    "        if np.any(inf_msk):\n",
    "            inst_cost[inf_msk] = c_rnd\n",
    "            costs[:, i] = inst_cost\n",
    "\n",
    "    smry['center_dist_mean'] = np.mean(costs)\n",
    "    smry['center_dist_std'] = np.mean(np.std(costs, axis=0))\n",
    "    print(f\"adapted summary: {smry}\")\n",
    "    metrics[m_id] = smry\n"
   ],
   "metadata": {
    "collapsed": false,
    "pycharm": {
     "name": "#%%\n"
    }
   }
  },
  {
   "cell_type": "code",
   "execution_count": null,
   "outputs": [],
   "source": [
    "mthd = \"ccp_mh\"\n",
    "if not CUDA or CUDA and mthd in CUDA_METHODS:\n",
    "    result, smry = eval_method(\n",
    "        method=getattr(methods_registry, mthd),\n",
    "        dataset=ds,\n",
    "        seeds=seeds,\n",
    "        save_dir=BL_DIR,\n",
    "        cuda=CUDA,\n",
    "        k_not_known=K_NOT_KNOWN,\n",
    "        sample_cfg=smp_cfg,\n",
    "        num_init=NUM_INIT,\n",
    "        num_cores=CORES,\n",
    "        t_total=T_LIM,\n",
    "        t_local=T_LIM//10,\n",
    "        g_initial=25,\n",
    "    )\n",
    "    m_id = f\"{mthd}{'_cuda' if CUDA and mthd in CUDA_METHODS else ''}\"\n",
    "    RESULTS[m_id] = result\n",
    "    # replace infeasible runs with mean cost of random method\n",
    "    res = deepcopy(result)\n",
    "    costs = np.array([r['tot_center_dist'] for r in res])\n",
    "    costs = costs.reshape(NSEEDS, -1)\n",
    "    for i, c_rnd in enumerate(rnd_mean_cost):\n",
    "        inst_cost = costs[:, i]\n",
    "        inf_msk = inst_cost == INF\n",
    "        if np.any(inf_msk):\n",
    "            inst_cost[inf_msk] = c_rnd\n",
    "            costs[:, i] = inst_cost\n",
    "\n",
    "    smry['center_dist_mean'] = np.mean(costs)\n",
    "    smry['center_dist_std'] = np.mean(np.std(costs, axis=0))\n",
    "    print(f\"adapted summary: {smry}\")\n",
    "    metrics[m_id] = smry"
   ],
   "metadata": {
    "collapsed": false,
    "pycharm": {
     "name": "#%%\n"
    }
   }
  },
  {
   "cell_type": "code",
   "execution_count": null,
   "outputs": [],
   "source": [
    "mthd = \"rpack\"\n",
    "if not CUDA or CUDA and mthd in CUDA_METHODS:\n",
    "    result, smry = eval_method(\n",
    "        method=getattr(methods_registry, mthd),\n",
    "        dataset=ds,\n",
    "        seeds=seeds,\n",
    "        save_dir=BL_DIR,\n",
    "        cuda=CUDA,\n",
    "        k_not_known=K_NOT_KNOWN,\n",
    "        sample_cfg=smp_cfg,\n",
    "        num_init=NUM_INIT,\n",
    "        num_cores=CORES,\n",
    "        timeout=T_LIM,\n",
    "        timeout_kill=(T_LIM*2)+1,\n",
    "        verbose=False,\n",
    "    )\n",
    "    m_id = f\"{mthd}{'_cuda' if CUDA and mthd in CUDA_METHODS else ''}\"\n",
    "    RESULTS[m_id] = result\n",
    "    # replace infeasible runs with mean cost of random method\n",
    "    res = deepcopy(result)\n",
    "    costs = np.array([r['tot_center_dist'] for r in res])\n",
    "    costs = costs.reshape(NSEEDS, -1)\n",
    "    for i, c_rnd in enumerate(rnd_mean_cost):\n",
    "        inst_cost = costs[:, i]\n",
    "        inf_msk = inst_cost == INF\n",
    "        if np.any(inf_msk):\n",
    "            inst_cost[inf_msk] = c_rnd\n",
    "            costs[:, i] = inst_cost\n",
    "\n",
    "    smry['center_dist_mean'] = np.mean(costs)\n",
    "    smry['center_dist_std'] = np.mean(np.std(costs, axis=0))\n",
    "    print(f\"adapted summary: {smry}\")\n",
    "    metrics[m_id] = smry"
   ],
   "metadata": {
    "collapsed": false,
    "pycharm": {
     "name": "#%%\n"
    }
   }
  },
  {
   "cell_type": "code",
   "execution_count": null,
   "outputs": [],
   "source": [
    "mthd = \"agglomerative\"\n",
    "if not CUDA or CUDA and mthd in CUDA_METHODS:\n",
    "    result, smry = eval_method(\n",
    "        method=getattr(methods_registry, mthd),\n",
    "        dataset=ds,\n",
    "        seeds=seeds,\n",
    "        save_dir=BL_DIR,\n",
    "        cuda=CUDA,\n",
    "        k_not_known=K_NOT_KNOWN,\n",
    "        sample_cfg=smp_cfg,\n",
    "        num_init=NUM_INIT,\n",
    "        nn_selection=True,\n",
    "    )\n",
    "    m_id = f\"{mthd}{'_cuda' if CUDA and mthd in CUDA_METHODS else ''}\"\n",
    "    RESULTS[m_id] = result\n",
    "    # replace infeasible runs with mean cost of random method\n",
    "    res = deepcopy(result)\n",
    "    costs = np.array([r['tot_center_dist'] for r in res])\n",
    "    costs = costs.reshape(NSEEDS, -1)\n",
    "    for i, c_rnd in enumerate(rnd_mean_cost):\n",
    "        inst_cost = costs[:, i]\n",
    "        inf_msk = inst_cost == INF\n",
    "        if np.any(inf_msk):\n",
    "            inst_cost[inf_msk] = c_rnd\n",
    "            costs[:, i] = inst_cost\n",
    "\n",
    "    smry['center_dist_mean'] = np.mean(costs)\n",
    "    smry['center_dist_std'] = np.mean(np.std(costs, axis=0))\n",
    "    print(f\"adapted summary: {smry}\")\n",
    "    metrics[m_id] = smry"
   ],
   "metadata": {
    "collapsed": false,
    "pycharm": {
     "name": "#%%\n"
    }
   }
  },
  {
   "cell_type": "markdown",
   "source": [
    "### Results + Ablation\n",
    "\n"
   ],
   "metadata": {
    "collapsed": false,
    "pycharm": {
     "name": "#%% md\n"
    }
   }
  },
  {
   "cell_type": "code",
   "execution_count": null,
   "outputs": [],
   "source": [
    "mthd = \"cap_kmeans\"\n",
    "if not CUDA or CUDA and mthd in CUDA_METHODS:\n",
    "    result, smry = eval_method(\n",
    "        method=getattr(methods_registry, mthd),\n",
    "        dataset=ds,\n",
    "        seeds=seeds,\n",
    "        save_dir=BL_DIR,\n",
    "        cuda=CUDA,\n",
    "        k_not_known=K_NOT_KNOWN,\n",
    "        sample_cfg=smp_cfg,\n",
    "        verbose=False,\n",
    "        num_init=NUM_INIT,\n",
    "        tol=1e-4,\n",
    "        max_iter=80,\n",
    "        init_method=\"ckm++\",\n",
    "    )\n",
    "    m_id = f\"{mthd}{'_cuda' if CUDA and mthd in CUDA_METHODS else ''}\"\n",
    "    RESULTS[m_id] = result\n",
    "    # replace infeasible runs with mean cost of random method\n",
    "    res = deepcopy(result)\n",
    "    costs = np.array([r['tot_center_dist'] for r in res])\n",
    "    costs = costs.reshape(NSEEDS, -1)\n",
    "    for i, c_rnd in enumerate(rnd_mean_cost):\n",
    "        inst_cost = costs[:, i]\n",
    "        inf_msk = inst_cost == INF\n",
    "        if np.any(inf_msk):\n",
    "            inst_cost[inf_msk] = c_rnd\n",
    "            costs[:, i] = inst_cost\n",
    "\n",
    "    smry['center_dist_mean'] = np.mean(costs)\n",
    "    smry['center_dist_std'] = np.mean(np.std(costs, axis=0))\n",
    "    print(f\"adapted summary: {smry}\")\n",
    "    metrics[m_id] = smry"
   ],
   "metadata": {
    "collapsed": false,
    "pycharm": {
     "name": "#%%\n"
    }
   }
  },
  {
   "cell_type": "code",
   "execution_count": null,
   "outputs": [],
   "source": [
    "# greedily assigns the last 'opt_last_frac' fraction of total nodes\n",
    "# ordered by their absolute priority to the closest center\n",
    "\n",
    "mthd = \"ncc_greedy\"\n",
    "model = load_model(\"ccp\", CKPT)\n",
    "\n",
    "ckmeans = CKMeans(\n",
    "    max_iter=50,\n",
    "    num_init=NUM_INIT,\n",
    "    model=model,\n",
    "    seed=SEED,\n",
    "    init_method=\"ckm++\",\n",
    "    tol=0.001,\n",
    "    pre_iter=0,\n",
    "    verbose=False,\n",
    "    opt_last_frac=0.25,\n",
    "    opt_last_samples=1, # no multiple samples\n",
    "    opt_last_prio=True,\n",
    ")\n",
    "\n",
    "result, smry = eval_method(\n",
    "    method=ckmeans.inference,\n",
    "    dataset=ds,\n",
    "    seeds=seeds,\n",
    "    save_dir=M_DIR,\n",
    "    cuda=CUDA,\n",
    "    k_not_known=K_NOT_KNOWN,\n",
    "    sample_cfg=smp_cfg,\n",
    "    method_str=mthd,\n",
    ")\n",
    "m_id = f\"{mthd}{'_cuda' if CUDA and mthd in CUDA_METHODS else ''}\"\n",
    "RESULTS[m_id] = result\n",
    "# replace infeasible runs with mean cost of random method\n",
    "res = deepcopy(result)\n",
    "costs = np.array([r['tot_center_dist'] for r in res])\n",
    "costs = costs.reshape(NSEEDS, -1)\n",
    "for i, c_rnd in enumerate(rnd_mean_cost):\n",
    "    inst_cost = costs[:, i]\n",
    "    inf_msk = inst_cost == INF\n",
    "    if np.any(inf_msk):\n",
    "        inst_cost[inf_msk] = c_rnd\n",
    "        costs[:, i] = inst_cost\n",
    "\n",
    "smry['center_dist_mean'] = np.mean(costs)\n",
    "smry['center_dist_std'] = np.mean(np.std(costs, axis=0))\n",
    "print(f\"adapted summary: {smry}\")\n",
    "metrics[m_id] = smry\n"
   ],
   "metadata": {
    "collapsed": false,
    "pycharm": {
     "name": "#%%\n"
    }
   }
  },
  {
   "cell_type": "code",
   "execution_count": null,
   "outputs": [],
   "source": [
    "# samples multiple assignments for the last 'opt_last_frac' fraction of total nodes\n",
    "# and selects the best one\n",
    "\n",
    "mthd = \"ncc_samp\"\n",
    "model = load_model(\"ccp\", CKPT)\n",
    "\n",
    "ckmeans = CKMeans(\n",
    "    max_iter=50,\n",
    "    num_init=NUM_INIT,\n",
    "    model=model,\n",
    "    seed=SEED,\n",
    "    init_method=\"ckm++\",\n",
    "    tol=0.001,\n",
    "    pre_iter=0,\n",
    "    verbose=False,\n",
    "    opt_last_frac=0.25,\n",
    "    opt_last_samples=64,\n",
    ")\n",
    "\n",
    "result, smry = eval_method(\n",
    "    method=ckmeans.inference,\n",
    "    dataset=ds,\n",
    "    seeds=seeds,\n",
    "    save_dir=M_DIR,\n",
    "    cuda=CUDA,\n",
    "    k_not_known=K_NOT_KNOWN,\n",
    "    sample_cfg=smp_cfg,\n",
    "    method_str=mthd,\n",
    ")\n",
    "m_id = f\"{mthd}{'_cuda' if CUDA and mthd in CUDA_METHODS else ''}\"\n",
    "RESULTS[m_id] = result\n",
    "# replace infeasible runs with mean cost of random method\n",
    "res = deepcopy(result)\n",
    "costs = np.array([r['tot_center_dist'] for r in res])\n",
    "costs = costs.reshape(NSEEDS, -1)\n",
    "for i, c_rnd in enumerate(rnd_mean_cost):\n",
    "    inst_cost = costs[:, i]\n",
    "    inf_msk = inst_cost == INF\n",
    "    if np.any(inf_msk):\n",
    "        inst_cost[inf_msk] = c_rnd\n",
    "        costs[:, i] = inst_cost\n",
    "\n",
    "smry['center_dist_mean'] = np.mean(costs)\n",
    "smry['center_dist_std'] = np.mean(np.std(costs, axis=0))\n",
    "print(f\"adapted summary: {smry}\")\n",
    "metrics[m_id] = smry"
   ],
   "metadata": {
    "collapsed": false,
    "pycharm": {
     "name": "#%%\n"
    }
   }
  },
  {
   "cell_type": "code",
   "execution_count": null,
   "outputs": [],
   "source": [],
   "metadata": {
    "collapsed": false,
    "pycharm": {
     "name": "#%%\n"
    }
   }
  },
  {
   "cell_type": "code",
   "execution_count": null,
   "outputs": [],
   "source": [],
   "metadata": {
    "collapsed": false,
    "pycharm": {
     "name": "#%%\n"
    }
   }
  }
 ],
 "metadata": {
  "kernelspec": {
   "display_name": "Python 3 (ipykernel)",
   "language": "python",
   "name": "python3"
  },
  "language_info": {
   "codemirror_mode": {
    "name": "ipython",
    "version": 3
   },
   "file_extension": ".py",
   "mimetype": "text/x-python",
   "name": "python",
   "nbconvert_exporter": "python",
   "pygments_lexer": "ipython3",
   "version": "3.9.12"
  }
 },
 "nbformat": 4,
 "nbformat_minor": 1
}
