{
 "cells": [
  {
   "cell_type": "code",
   "execution_count": null,
   "outputs": [],
   "source": [
    "%load_ext autoreload\n",
    "%autoreload 2\n",
    "%matplotlib inline\n"
   ],
   "metadata": {
    "collapsed": false
   }
  },
  {
   "cell_type": "code",
   "execution_count": null,
   "metadata": {
    "collapsed": true
   },
   "outputs": [],
   "source": [
    "from typing import Optional\n",
    "import os\n",
    "import numpy as np\n",
    "import scipy as sp\n",
    "from scipy.spatial import ConvexHull\n",
    "import torch\n",
    "import torch.nn as nn\n",
    "from timeit import default_timer\n",
    "from torch import Tensor\n",
    "import pandas as pd\n",
    "import matplotlib.pyplot as plt\n",
    "import seaborn as sns\n",
    "from matplotlib.path import Path\n",
    "\n",
    "from lib.problems import ProblemDataset\n",
    "#from lib.utils import visualize_clustering\n",
    "from lib.utils.visualization import group_by_label_mean, calculate_inertia\n"
   ]
  },
  {
   "cell_type": "code",
   "execution_count": null,
   "outputs": [],
   "source": [
    "ITALIA = False\n",
    "\n",
    "if ITALIA:\n",
    "    gb21_pth = \"plot_data/italia_tel_2020/ccp_mh/full_test_n2020_k25_cap1_1/eval_results_full_1.pkl\"\n",
    "    rpack_pth = \"plot_data/italia_tel_2020/rpack/full_test_n2020_k25_cap1_1/eval_results_full_1.pkl\"\n",
    "    ncc_pth = \"plot_data/italia_tel_2020/ncc_samp_re2/full_test_n2020_k25_cap1_1/eval_results_full_1.pkl\"\n",
    "    ckm_pth = \"plot_data/italia_tel_2020/cap_kmeans/full_test_n2020_k25_cap1_1/eval_results_full_1.pkl\"\n",
    "    SAVE_DIR = \"plot_data/italia_tel_2020/\"\n",
    "    ncc_name = \"NCC_(s-25-64)\"\n",
    "else:\n",
    "    gb21_pth = \"plot_data/shanghai_tel_2373/ccp_mh/full_test_n2373_k40_cap1_1/eval_results_full_1.pkl\"\n",
    "    rpack_pth = \"plot_data/shanghai_tel_2373/rpack/full_test_n2373_k40_cap1_1/eval_results_full_1.pkl\"\n",
    "    ncc_pth = \"plot_data/shanghai_tel_2373/ncc_samp_re2/full_test_n2373_k40_cap1_1/eval_results_full_1.pkl\"\n",
    "    ckm_pth = \"plot_data/shanghai_tel_2373/cap_kmeans/full_test_n2373_k40_cap1_1/eval_results_full_1.pkl\"\n",
    "    SAVE_DIR = \"plot_data/shanghai_tel_2373/\"\n",
    "    ncc_name = \"NCC_(s-25-128)\""
   ],
   "metadata": {
    "collapsed": false
   }
  },
  {
   "cell_type": "code",
   "execution_count": null,
   "outputs": [],
   "source": [
    "PTHS = [gb21_pth, rpack_pth, ckm_pth, ncc_pth]\n",
    "NAMES = [\"GB21\", \"PACK\", \"CapKMeans\", ncc_name]"
   ],
   "metadata": {
    "collapsed": false
   }
  },
  {
   "cell_type": "code",
   "execution_count": null,
   "outputs": [],
   "source": [
    "results = [torch.load(pth)[0] for pth in PTHS]\n",
    "results"
   ],
   "metadata": {
    "collapsed": false
   }
  },
  {
   "cell_type": "code",
   "execution_count": null,
   "outputs": [],
   "source": [
    "def plot_cluster(\n",
    "    ax, x, y,\n",
    "    plot_centers: bool = True,\n",
    "    plot_medoids: bool = False,\n",
    "    plot_convex_hull: bool = True,\n",
    "    plot_hull_points: bool = False,\n",
    "    compute_inertia: bool = False,\n",
    "    alpha: float = 0.5,\n",
    "    rt_str: str = \"\",\n",
    "    name: str = None,\n",
    "    legend=False,\n",
    "    fontsize: int = 15,\n",
    "):\n",
    "    x_data = pd.DataFrame(np.concatenate((x[:, :3], y[:, None]), axis=-1),\n",
    "                          columns=[\"x_coord\", \"y_coord\", \"weight\", \"pred_label\"])\n",
    "    # convert dtype\n",
    "    x_data.pred_label = x_data.pred_label.astype(int)\n",
    "\n",
    "    sns.scatterplot(x=\"x_coord\", y=\"y_coord\", hue=\"pred_label\",\n",
    "                    size=\"weight\", sizes=(10, 100),\n",
    "                    alpha=alpha, palette=\"gist_rainbow\", legend=legend,\n",
    "                    data=x_data, ax=ax)\n",
    "    if plot_centers or plot_convex_hull or compute_inertia:\n",
    "        coords = x[:, :2]\n",
    "        lbls = np.unique(y)\n",
    "        nc = len(lbls)\n",
    "        coords_ = torch.from_numpy(coords)\n",
    "        y_ = torch.from_numpy(y)\n",
    "        centers_ = group_by_label_mean(\n",
    "            coords_[None, :, :],\n",
    "            y_[None, None, :],\n",
    "            torch.arange(nc).unsqueeze(0)\n",
    "        ).squeeze(0).squeeze(0)\n",
    "        centers = centers_.cpu().numpy()\n",
    "        if plot_centers:\n",
    "            ax.scatter(x=centers[:, 0], y=centers[:, 1], marker=\"X\", c=\"black\", alpha=1.0)\n",
    "\n",
    "    if plot_medoids:\n",
    "        raise NotImplementedError()\n",
    "\n",
    "    if plot_convex_hull:\n",
    "        hulls, coord_set = [], []\n",
    "        colors = sns.color_palette(\"gist_rainbow\", n_colors=nc)\n",
    "        for lb in lbls:\n",
    "            cl_points = coords[y==lb]\n",
    "            hulls.append(ConvexHull(cl_points))\n",
    "            coord_set.append(cl_points)\n",
    "        for hull, points, c in zip(hulls, coord_set, colors):\n",
    "            for simplex in hull.simplices:\n",
    "                    ax.plot(points[simplex, 0], points[simplex, 1], c=c)\n",
    "            if plot_hull_points:\n",
    "                ax.plot(points[hull.vertices, 0], points[hull.vertices, 1], 'o', mec='r', color='none', lw=1, markersize=10)\n",
    "\n",
    "    if compute_inertia:\n",
    "        #inertia = calculate_inertia(coords_, centers_, y_).item()\n",
    "        sets = []\n",
    "        for lbl in lbls:\n",
    "            sets.append((y==lbl).nonzero())\n",
    "        tot_dist = 0.0\n",
    "        for s in sets:\n",
    "            if s is not None and len(s) > 0:    # not empty\n",
    "                center = coords[s].mean(0)\n",
    "                cum_dist = np.linalg.norm(coords[s] - center, ord=2) ** 2   # squared euclidean distance\n",
    "                tot_dist += cum_dist\n",
    "        inertia = tot_dist\n",
    "\n",
    "    name_str = name if name is not None and len(name) > 0 else \"\"\n",
    "    inertia_str = f\"\\ninertia: {round(inertia, 4): .4f}  \" if compute_inertia else \"\"\n",
    "    rt_str = f\"time: {rt_str}s\" if rt_str is not None and len(rt_str) > 0 else \"\"\n",
    "    title = f\"{name_str}{inertia_str}{rt_str}\"\n",
    "    ax.set_title(title, fontdict={'fontsize': fontsize, 'fontweight': 'bold'})\n"
   ],
   "metadata": {
    "collapsed": false
   }
  },
  {
   "cell_type": "code",
   "execution_count": null,
   "outputs": [],
   "source": [
    "def plot_full(\n",
    "    results: list,\n",
    "    names: list,\n",
    "    alpha: float = 0.5,\n",
    "    plot_legend: bool = False,\n",
    "    plot_centers: bool = True,\n",
    "    plot_medoids: bool = False,\n",
    "    plot_convex_hull: bool = True,\n",
    "    compute_inertia: bool = False,\n",
    "    remove_axis_ticks_and_labels: bool = True,\n",
    "    save_dir: str = None,\n",
    "    fontsize: int = 25,\n",
    "    **kwargs\n",
    "):\n",
    "    assert len(results) == len(names)\n",
    "    n_plots = len(results)\n",
    "\n",
    "    #plt.rcParams.update({'axes.titlesize': 'x-large'})\n",
    "    sns.set_theme(style=\"white\", palette=None)\n",
    "    if plot_legend:\n",
    "        legend = \"auto\"\n",
    "    else:\n",
    "        legend = False\n",
    "\n",
    "    fig, axs = plt.subplots(nrows=1, ncols=n_plots, figsize=(5.9*n_plots, 6))\n",
    "    for ax, res, nm in zip(axs, results, names):\n",
    "        inst = res['instance']\n",
    "        x = np.concatenate((inst['coords'][0], inst['demands'][0][:, None]), axis=-1)\n",
    "        y = res['assignment']\n",
    "        rt = str(round(res['run_time'], 1))\n",
    "        plot_cluster(ax, x, y, plot_centers, plot_medoids, plot_convex_hull,\n",
    "                     compute_inertia=compute_inertia, name=nm, alpha=alpha,\n",
    "                     legend=legend, rt_str=rt, fontsize=fontsize, **kwargs)\n",
    "\n",
    "    if remove_axis_ticks_and_labels:\n",
    "        for ax in axs:\n",
    "            ax.set(xticklabels=[], yticklabels=[], xlabel=None, ylabel=None)\n",
    "\n",
    "    if plot_legend:\n",
    "        for ax in axs:\n",
    "            sns.move_legend(ax, loc='upper center', bbox_to_anchor=(0.5, -0.05), ncol=n_plots)\n",
    "\n",
    "    fig.tight_layout()\n",
    "    if save_dir is None:\n",
    "        plt.show()\n",
    "    else:   # save figure\n",
    "        nm_str = \"_\".join(names)\n",
    "        save_pth = os.path.join(save_dir, f\"{nm_str}_plot.pdf\")\n",
    "        plt.savefig(fname=save_pth, format=\"pdf\", bbox_inches='tight')"
   ],
   "metadata": {
    "collapsed": false
   }
  },
  {
   "cell_type": "code",
   "execution_count": null,
   "outputs": [],
   "source": [
    "plot_full(\n",
    "    results=results,\n",
    "    names=NAMES,\n",
    "    plot_legend=False,\n",
    "    plot_centers=True,\n",
    "    plot_convex_hull=True,\n",
    "    compute_inertia=True,\n",
    "    remove_axis_ticks_and_labels=True,\n",
    "    fontsize=80,\n",
    "    save_dir=SAVE_DIR,\n",
    ")"
   ],
   "metadata": {
    "collapsed": false
   }
  },
  {
   "cell_type": "code",
   "execution_count": null,
   "outputs": [],
   "source": [],
   "metadata": {
    "collapsed": false
   }
  }
 ],
 "metadata": {
  "kernelspec": {
   "display_name": "Python 3",
   "language": "python",
   "name": "python3"
  },
  "language_info": {
   "codemirror_mode": {
    "name": "ipython",
    "version": 2
   },
   "file_extension": ".py",
   "mimetype": "text/x-python",
   "name": "python",
   "nbconvert_exporter": "python",
   "pygments_lexer": "ipython2",
   "version": "2.7.6"
  }
 },
 "nbformat": 4,
 "nbformat_minor": 0
}
