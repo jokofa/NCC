{
 "cells": [
  {
   "cell_type": "markdown",
   "source": [
    "## Do full evaluation on Uchoa benchmark"
   ],
   "metadata": {
    "collapsed": false
   }
  },
  {
   "cell_type": "code",
   "execution_count": null,
   "outputs": [],
   "source": [
    "%load_ext autoreload\n",
    "%autoreload 2\n",
    "%matplotlib inline"
   ],
   "metadata": {
    "collapsed": false,
    "pycharm": {
     "name": "#%%\n"
    }
   }
  },
  {
   "cell_type": "code",
   "execution_count": null,
   "outputs": [],
   "source": [
    "from copy import deepcopy\n",
    "import os\n",
    "import json\n",
    "import numpy as np\n",
    "import pandas as pd\n",
    "\n",
    "from lib.problems import ProblemDataset\n",
    "from baselines.utils import eval_method\n",
    "from baselines.VRP import methods_registry\n",
    "from baselines.VRP.methods_registry import CUDA_METHODS\n",
    "from lib.ltr.utils import load_model\n",
    "from lib.ltr.vrp.method import RouteCKMeans"
   ],
   "metadata": {
    "collapsed": false,
    "pycharm": {
     "name": "#%%\n"
    }
   }
  },
  {
   "cell_type": "code",
   "execution_count": null,
   "outputs": [],
   "source": [
    "SEED = 1\n",
    "NSEEDS = 1 #3\n",
    "CUDA = False\n",
    "K_NOT_KNOWN = False\n",
    "STRICT_K = False\n",
    "MIN_K = True    # minimize K in case it cannot be directly provided\n",
    "CORES = 4\n",
    "PART = 3\n",
    "\n",
    "# A construction heuristic should be fast!\n",
    "if PART == 1:\n",
    "    T_LIM = 300\n",
    "elif PART == 2:\n",
    "    T_LIM = 600\n",
    "else:\n",
    "    T_LIM = 900\n",
    "\n",
    "SAVE_DIR = f\"./outputs_eval/uchoa/\"\n",
    "BL_DIR = os.path.join(SAVE_DIR, \"baselines\")\n",
    "M_DIR = os.path.join(SAVE_DIR, \"model\")\n",
    "INF = float(\"inf\")\n",
    "\n",
    "DS_PTH = f\"data/VRP/uchoa/n{PART}.npz\"\n",
    "CKPT = \"outputs/final/vrp_200/gnn_pool_pointwise/2023-01-17_11-45-47_011948/checkpoints/epoch=117_val_acc=0.9592.ckpt\""
   ],
   "metadata": {
    "collapsed": false,
    "pycharm": {
     "name": "#%%\n"
    }
   }
  },
  {
   "cell_type": "code",
   "execution_count": null,
   "outputs": [],
   "source": [
    "metrics = {}\n",
    "RESULTS = {}\n",
    "seeds = [SEED+i for i in range(NSEEDS)]\n",
    "ds = ProblemDataset(problem=\"VRP\", seed=SEED, data_pth=DS_PTH)\n",
    "ds = ds.sample(allow_pickle=True) #, sample_size=10)"
   ],
   "metadata": {
    "collapsed": false,
    "pycharm": {
     "name": "#%%\n"
    }
   }
  },
  {
   "cell_type": "code",
   "source": [
    "ds.data\n"
   ],
   "metadata": {
    "collapsed": false,
    "pycharm": {
     "name": "#%%\n"
    }
   },
   "execution_count": null,
   "outputs": []
  },
  {
   "cell_type": "markdown",
   "source": [
    "The Uchoa Benchmark reports the target number K of vehicles to be found to solve each instance.\n",
    "Some construction methods can take the value of K directly into account, others at least provide the option\n",
    "to minimize the number of vehicles as main objective before minimizing the total route length.\n",
    "In contrast, recent SotA machine learning based methods do not take this important constraint into account,\n",
    "and thus are solving a simpler, relaxed version of the problem most often finding solutions\n",
    "which are not feasible for the original problem. This fact was already stated in\n",
    "\"Thyssens et al., Supervised Permutation Invariant Networks for Solving the CVRP with Bounded Fleet Size.\"\n",
    "As we show in our experiments, our method is able to solve most instances while taking that constraint into account."
   ],
   "metadata": {
    "collapsed": false,
    "pycharm": {
     "name": "#%% md\n"
    }
   }
  },
  {
   "cell_type": "code",
   "execution_count": null,
   "outputs": [],
   "source": [
    "mthd = \"cw_savings\"\n",
    "result, smry = eval_method(\n",
    "    method=getattr(methods_registry, \"savings\"),\n",
    "    dataset=ds,\n",
    "    problem=\"cvrp\",\n",
    "    strict_feasibility=STRICT_K,\n",
    "    seeds=seeds,\n",
    "    save_dir=BL_DIR,\n",
    "    cuda=False,\n",
    "    k_not_known=K_NOT_KNOWN,\n",
    "    sample_cfg={},\n",
    "    method_str=mthd,\n",
    "    verbose=False,\n",
    "    num_cores=CORES,\n",
    "    savings_function=\"clarke_wright\",\n",
    "    min_k=MIN_K,\n",
    ")\n",
    "m_id = mthd\n",
    "RESULTS[m_id] = result\n",
    "metrics[m_id] = smry\n",
    "print(smry)\n"
   ],
   "metadata": {
    "collapsed": false,
    "pycharm": {
     "name": "#%%\n"
    }
   }
  },
  {
   "cell_type": "code",
   "execution_count": null,
   "outputs": [],
   "source": [
    "mthd = \"sweep\"\n",
    "result, smry = eval_method(\n",
    "    method=getattr(methods_registry, mthd),\n",
    "    dataset=ds,\n",
    "    problem=\"cvrp\",\n",
    "    strict_feasibility=STRICT_K,\n",
    "    seeds=seeds,\n",
    "    save_dir=BL_DIR,\n",
    "    cuda=False,\n",
    "    k_not_known=K_NOT_KNOWN,\n",
    "    sample_cfg={},\n",
    "    method_str=mthd,\n",
    "    verbose=False,\n",
    "    num_cores=CORES,\n",
    "    min_k=MIN_K,\n",
    ")\n",
    "m_id = mthd\n",
    "RESULTS[m_id] = result\n",
    "rnd_res = deepcopy(result)\n",
    "\n",
    "costs = np.array([r['tot_center_dist'] for r in rnd_res])\n",
    "max_cost = costs[costs != INF].max()\n",
    "costs = costs.reshape(NSEEDS, -1)\n",
    "is_inf = np.all(costs == INF, axis=0)\n",
    "print(f\"inf: {is_inf.sum()}\")\n",
    "# buffer sweep cost mean as drop in replacement\n",
    "sweep_mean_cost = np.nanmean(costs, axis=0)\n",
    "sweep_mean_cost[is_inf] = max_cost\n",
    "smry['center_dist_mean'] = sweep_mean_cost.mean()\n",
    "print(smry)\n",
    "metrics[m_id] = smry\n"
   ],
   "metadata": {
    "collapsed": false,
    "pycharm": {
     "name": "#%%\n"
    }
   }
  },
  {
   "cell_type": "code",
   "execution_count": null,
   "outputs": [],
   "source": [
    "mthd = \"sweep_gurobi\"\n",
    "result, smry = eval_method(\n",
    "    method=getattr(methods_registry, mthd),\n",
    "    dataset=ds,\n",
    "    problem=\"cvrp\",\n",
    "    strict_feasibility=STRICT_K,\n",
    "    seeds=seeds,\n",
    "    save_dir=BL_DIR,\n",
    "    cuda=False,\n",
    "    k_not_known=K_NOT_KNOWN,\n",
    "    sample_cfg={},\n",
    "    method_str=mthd,\n",
    "    verbose=False,\n",
    "    num_cores=CORES,\n",
    "    min_k=MIN_K,\n",
    "    t_lim=T_LIM\n",
    ")\n",
    "m_id = mthd\n",
    "RESULTS[m_id] = result\n",
    "# replace infeasible runs with mean cost of random method\n",
    "res = deepcopy(result)\n",
    "costs = np.array([r['tot_center_dist'] for r in res])\n",
    "costs = costs.reshape(NSEEDS, -1)\n",
    "for i, c_rnd in enumerate(sweep_mean_cost):\n",
    "    inst_cost = costs[:, i]\n",
    "    inf_msk = inst_cost == INF\n",
    "    if np.any(inf_msk):\n",
    "        inst_cost[inf_msk] = c_rnd\n",
    "        costs[:, i] = inst_cost\n",
    "\n",
    "smry['center_dist_mean'] = np.mean(costs)\n",
    "smry['center_dist_std'] = np.mean(np.std(costs, axis=0))\n",
    "print(f\"adapted summary: {smry}\")\n",
    "metrics[m_id] = smry\n"
   ],
   "metadata": {
    "collapsed": false,
    "pycharm": {
     "name": "#%%\n"
    }
   }
  },
  {
   "cell_type": "code",
   "execution_count": null,
   "outputs": [],
   "source": [
    "mthd = \"sweep_petal\"\n",
    "result, smry = eval_method(\n",
    "    method=getattr(methods_registry, mthd),\n",
    "    dataset=ds,\n",
    "    problem=\"cvrp\",\n",
    "    strict_feasibility=STRICT_K,\n",
    "    seeds=seeds,\n",
    "    save_dir=BL_DIR,\n",
    "    cuda=False,\n",
    "    k_not_known=K_NOT_KNOWN,\n",
    "    sample_cfg={},\n",
    "    method_str=mthd,\n",
    "    verbose=False,\n",
    "    num_cores=CORES,\n",
    "    #min_k=MIN_K,\n",
    "    t_lim=T_LIM\n",
    ")\n",
    "m_id = mthd\n",
    "RESULTS[m_id] = result\n",
    "# replace infeasible runs with mean cost of random method\n",
    "res = deepcopy(result)\n",
    "costs = np.array([r['tot_center_dist'] for r in res])\n",
    "costs = costs.reshape(NSEEDS, -1)\n",
    "for i, c_rnd in enumerate(sweep_mean_cost):\n",
    "    inst_cost = costs[:, i]\n",
    "    inf_msk = inst_cost == INF\n",
    "    if np.any(inf_msk):\n",
    "        inst_cost[inf_msk] = c_rnd\n",
    "        costs[:, i] = inst_cost\n",
    "\n",
    "smry['center_dist_mean'] = np.mean(costs)\n",
    "smry['center_dist_std'] = np.mean(np.std(costs, axis=0))\n",
    "print(f\"adapted summary: {smry}\")\n",
    "metrics[m_id] = smry"
   ],
   "metadata": {
    "collapsed": false,
    "pycharm": {
     "name": "#%%\n"
    }
   }
  },
  {
   "cell_type": "code",
   "execution_count": null,
   "outputs": [],
   "source": [
    "mthd = \"gap\"\n",
    "result, smry = eval_method(\n",
    "    method=getattr(methods_registry, mthd),\n",
    "    dataset=ds,\n",
    "    problem=\"cvrp\",\n",
    "    strict_feasibility=STRICT_K,\n",
    "    seeds=seeds,\n",
    "    save_dir=BL_DIR,\n",
    "    cuda=False,\n",
    "    k_not_known=K_NOT_KNOWN,\n",
    "    sample_cfg={},\n",
    "    method_str=mthd,\n",
    "    verbose=False,\n",
    "    num_cores=CORES,\n",
    "    #min_k=MIN_K,\n",
    "    t_lim=T_LIM\n",
    ")\n",
    "m_id = mthd\n",
    "RESULTS[m_id] = result\n",
    "# replace infeasible runs with mean cost of random method\n",
    "res = deepcopy(result)\n",
    "costs = np.array([r['tot_center_dist'] for r in res])\n",
    "costs = costs.reshape(NSEEDS, -1)\n",
    "for i, c_rnd in enumerate(sweep_mean_cost):\n",
    "    inst_cost = costs[:, i]\n",
    "    inf_msk = inst_cost == INF\n",
    "    if np.any(inf_msk):\n",
    "        inst_cost[inf_msk] = c_rnd\n",
    "        costs[:, i] = inst_cost\n",
    "\n",
    "smry['center_dist_mean'] = np.mean(costs)\n",
    "smry['center_dist_std'] = np.mean(np.std(costs, axis=0))\n",
    "print(f\"adapted summary: {smry}\")\n",
    "metrics[m_id] = smry\n"
   ],
   "metadata": {
    "collapsed": false,
    "pycharm": {
     "name": "#%%\n"
    }
   }
  },
  {
   "cell_type": "code",
   "execution_count": null,
   "outputs": [],
   "source": [
    "mthd = \"pomo_greedy\"\n",
    "result, smry = eval_method(\n",
    "    method=getattr(methods_registry, 'pomo'),\n",
    "    ckpt_pth=\"baselines/VRP/POMO/POMO/cvrp/result/Saved_CVRP100_Model/uchoa/checkpoint-8100.pt\",\n",
    "    dataset=ds,\n",
    "    problem=\"cvrp\",\n",
    "    strict_feasibility=STRICT_K,\n",
    "    seeds=seeds,\n",
    "    save_dir=BL_DIR,\n",
    "    cuda=CUDA,\n",
    "    k_not_known=K_NOT_KNOWN,\n",
    "    sample_cfg={},\n",
    "    method_str=mthd,\n",
    "    verbose=False,\n",
    "    num_cores=CORES,\n",
    "    single_trajectory=True,\n",
    "    augment=False,\n",
    ")\n",
    "m_id = mthd\n",
    "RESULTS[m_id] = result\n",
    "# replace infeasible runs with mean cost of random method\n",
    "res = deepcopy(result)\n",
    "costs = np.array([r['tot_center_dist'] for r in res])\n",
    "costs = costs.reshape(NSEEDS, -1)\n",
    "for i, c_rnd in enumerate(sweep_mean_cost):\n",
    "    inst_cost = costs[:, i]\n",
    "    inf_msk = inst_cost == INF\n",
    "    if np.any(inf_msk):\n",
    "        inst_cost[inf_msk] = c_rnd\n",
    "        costs[:, i] = inst_cost\n",
    "\n",
    "smry['center_dist_mean'] = np.mean(costs)\n",
    "smry['center_dist_std'] = np.mean(np.std(costs, axis=0))\n",
    "print(f\"adapted summary: {smry}\")\n",
    "metrics[m_id] = smry\n"
   ],
   "metadata": {
    "collapsed": false,
    "pycharm": {
     "name": "#%%\n"
    }
   }
  },
  {
   "cell_type": "code",
   "execution_count": null,
   "outputs": [],
   "source": [
    "mthd = \"pomo_samp\"\n",
    "result, smry = eval_method(\n",
    "    method=getattr(methods_registry, 'pomo'),\n",
    "    dataset=ds,\n",
    "    problem=\"cvrp\",\n",
    "    strict_feasibility=STRICT_K,\n",
    "    seeds=seeds,\n",
    "    save_dir=BL_DIR,\n",
    "    cuda=CUDA,\n",
    "    k_not_known=K_NOT_KNOWN,\n",
    "    sample_cfg={},\n",
    "    method_str=mthd,\n",
    "    verbose=False,\n",
    "    num_cores=CORES,\n",
    "    single_trajectory=False,\n",
    "    augment=True,\n",
    ")\n",
    "m_id = mthd\n",
    "RESULTS[m_id] = result\n",
    "# replace infeasible runs with mean cost of random method\n",
    "res = deepcopy(result)\n",
    "costs = np.array([r['tot_center_dist'] for r in res])\n",
    "costs = costs.reshape(NSEEDS, -1)\n",
    "for i, c_rnd in enumerate(sweep_mean_cost):\n",
    "    inst_cost = costs[:, i]\n",
    "    inf_msk = inst_cost == INF\n",
    "    if np.any(inf_msk):\n",
    "        inst_cost[inf_msk] = c_rnd\n",
    "        costs[:, i] = inst_cost\n",
    "\n",
    "smry['center_dist_mean'] = np.mean(costs)\n",
    "smry['center_dist_std'] = np.mean(np.std(costs, axis=0))\n",
    "print(f\"adapted summary: {smry}\")\n",
    "metrics[m_id] = smry\n"
   ],
   "metadata": {
    "collapsed": false,
    "pycharm": {
     "name": "#%%\n"
    }
   }
  },
  {
   "cell_type": "code",
   "execution_count": null,
   "outputs": [],
   "source": [
    "# # greedily assigns the last 'opt_last_frac' fraction of total nodes\n",
    "# # ordered by their weight to the closest center\n",
    "# # and decides convergence based on inertia\n",
    "mthd = \"ckmeans_greedy\"\n",
    "model = load_model(\"vrp\", CKPT)\n",
    "\n",
    "ckmeans = RouteCKMeans(\n",
    "    max_iter=40,\n",
    "    num_init=8,\n",
    "    model=model,\n",
    "    seed=SEED,\n",
    "    nbh_knn=25,\n",
    "    init_method=\"ckm++\",\n",
    "    convergence_criterion=\"inertia\",\n",
    "    permute_k=False,\n",
    "    tol=0.001,\n",
    "    verbose=False,\n",
    "    opt_last_frac=0.2,\n",
    "    opt_last_samples=1, # no multiple samples\n",
    "    depot_priority=True,\n",
    "    depot_priority_add=True,\n",
    ")\n",
    "\n",
    "result, smry = eval_method(\n",
    "    method=ckmeans.inference,\n",
    "    dataset=ds,\n",
    "    problem=\"cvrp\",\n",
    "    strict_feasibility=STRICT_K,\n",
    "    seeds=seeds,\n",
    "    save_dir=M_DIR,\n",
    "    cuda=False,\n",
    "    k_not_known=K_NOT_KNOWN,\n",
    "    method_str=mthd,\n",
    "    min_k=False,\n",
    "    k_search_bs=4,\n",
    "    k_search_init=1,\n",
    "    #num_cores=1,\n",
    ")\n",
    "m_id = f\"{mthd}{'_cuda' if CUDA and mthd in CUDA_METHODS else ''}\"\n",
    "RESULTS[m_id] = result\n",
    "# replace infeasible runs with mean cost of random method\n",
    "res = deepcopy(result)\n",
    "costs = np.array([r['tot_center_dist'] for r in res])\n",
    "costs = costs.reshape(NSEEDS, -1)\n",
    "\n",
    "smry['center_dist_mean'] = np.mean(costs)\n",
    "smry['center_dist_std'] = np.mean(np.std(costs, axis=0))\n",
    "print(f\"adapted summary: {smry}\")\n",
    "metrics[m_id] = smry\n"
   ],
   "metadata": {
    "collapsed": false,
    "pycharm": {
     "name": "#%%\n"
    }
   }
  },
  {
   "cell_type": "code",
   "execution_count": null,
   "outputs": [],
   "source": [
    "# samples multiple assignments for the last 'opt_last_frac' fraction of total nodes\n",
    "# and selects the best one\n",
    "mthd = \"ckmeans_samp\"\n",
    "model = load_model(\"vrp\", CKPT)\n",
    "\n",
    "ckmeans = RouteCKMeans(\n",
    "    max_iter=50,\n",
    "    num_init=8,\n",
    "    model=model,\n",
    "    seed=SEED,\n",
    "    nbh_knn=25,\n",
    "    init_method=\"ckm++\",\n",
    "    convergence_criterion=\"inertia\",\n",
    "    permute_k=False,\n",
    "    tol=0.001,\n",
    "    verbose=False,\n",
    "    opt_last_frac=0.2,\n",
    "    opt_last_samples=16,\n",
    "    depot_priority=True,\n",
    "    depot_priority_add=True,\n",
    ")\n",
    "\n",
    "result, smry = eval_method(\n",
    "    method=ckmeans.inference,\n",
    "    dataset=ds,\n",
    "    problem=\"cvrp\",\n",
    "    strict_feasibility=STRICT_K,\n",
    "    seeds=seeds,\n",
    "    save_dir=M_DIR,\n",
    "    cuda=CUDA,\n",
    "    k_not_known=K_NOT_KNOWN,\n",
    "    method_str=mthd,\n",
    "    min_k=False,\n",
    "    k_search_bs=4,\n",
    "    k_search_init=1,\n",
    "    #num_cores=1,\n",
    ")\n",
    "m_id = f\"{mthd}{'_cuda' if CUDA and mthd in CUDA_METHODS else ''}\"\n",
    "RESULTS[m_id] = result\n",
    "# replace infeasible runs with mean cost of random method\n",
    "res = deepcopy(result)\n",
    "costs = np.array([r['tot_center_dist'] for r in res])\n",
    "costs = costs.reshape(NSEEDS, -1)\n",
    "\n",
    "smry['center_dist_mean'] = np.mean(costs)\n",
    "smry['center_dist_std'] = np.mean(np.std(costs, axis=0))\n",
    "print(f\"adapted summary: {smry}\")\n",
    "metrics[m_id] = smry\n"
   ],
   "metadata": {
    "collapsed": false,
    "pycharm": {
     "name": "#%%\n"
    }
   }
  },
  {
   "cell_type": "code",
   "execution_count": null,
   "outputs": [],
   "source": [
    "# convert to dataframe for nice table ;)\n",
    "metric_df = pd.DataFrame(metrics)\n",
    "metric_df\n"
   ],
   "metadata": {
    "collapsed": false,
    "pycharm": {
     "name": "#%%\n"
    }
   }
  },
  {
   "cell_type": "code",
   "execution_count": null,
   "outputs": [],
   "source": [
    "save_metrics = metric_df.to_dict()\n",
    "os.makedirs(SAVE_DIR, exist_ok=True)\n",
    "file = os.path.join(SAVE_DIR, f\"full_results.json\")\n",
    "sv = True\n",
    "if os.path.exists(file):\n",
    "    sv = False\n",
    "    inp = input(\"File exists! Overwrite? (y/n)\")\n",
    "    if str(inp).lower() == \"y\":\n",
    "        sv = True\n",
    "if sv:\n",
    "    with open(file, 'w') as fp:\n",
    "        json.dump(save_metrics, fp)"
   ],
   "metadata": {
    "collapsed": false,
    "pycharm": {
     "name": "#%%\n"
    }
   }
  },
  {
   "cell_type": "code",
   "execution_count": null,
   "outputs": [],
   "source": [
    "# optimal ks defined in instances\n",
    "n1_ks = [\n",
    "25,\n",
    "14,\n",
    "13,\n",
    "10,\n",
    "6,\n",
    "30,\n",
    "18,\n",
    "13,\n",
    "10,\n",
    "7,\n",
    "46,\n",
    "22,\n",
    "13,\n",
    "11,\n",
    "10,\n",
    "51,\n",
    "26,\n",
    "23,\n",
    "15,\n",
    "8,\n",
    "51,\n",
    "36,\n",
    "19,\n",
    "16,\n",
    "11,\n",
    "73,\n",
    "34,\n",
    "23,\n",
    "16,\n",
    "14,\n",
    "48,\n",
    "50,\n",
    "]\n",
    "print(len(n1_ks), np.mean(n1_ks))\n",
    "\n",
    "n2_ks = [\n",
    "28,\n",
    "16,\n",
    "13,\n",
    "58,\n",
    "35,\n",
    "28,\n",
    "17,\n",
    "15,\n",
    "60,\n",
    "50,\n",
    "31,\n",
    "21,\n",
    "13,\n",
    "71,\n",
    "53,\n",
    "28,\n",
    "20,\n",
    "15,\n",
    "84,\n",
    "43,\n",
    "40,\n",
    "29,\n",
    "17,\n",
    "94,\n",
    "52,\n",
    "38,\n",
    "29,\n",
    "19,\n",
    "130,\n",
    "61,\n",
    "37,\n",
    "29,\n",
    "26,\n",
    "138,\n",
    "70,\n",
    "59,\n",
    "]\n",
    "print(len(n2_ks), np.mean(n2_ks))\n",
    "\n",
    "n3_ks = [\n",
    "39,\n",
    "21,\n",
    "153,\n",
    "96,\n",
    "50,\n",
    "42,\n",
    "30,\n",
    "159,\n",
    "92,\n",
    "62,\n",
    "43,\n",
    "35,\n",
    "131,\n",
    "130,\n",
    "75,\n",
    "44,\n",
    "35,\n",
    "159,\n",
    "98,\n",
    "71,\n",
    "48,\n",
    "40,\n",
    "171,\n",
    "142,\n",
    "95,\n",
    "59,\n",
    "37,\n",
    "207,\n",
    "151,\n",
    "87,\n",
    "58,\n",
    "43,\n",
    "]\n",
    "print(len(n3_ks), np.mean(n3_ks))"
   ],
   "metadata": {
    "collapsed": false,
    "pycharm": {
     "name": "#%%\n"
    }
   }
  },
  {
   "cell_type": "code",
   "execution_count": null,
   "outputs": [],
   "source": [],
   "metadata": {
    "collapsed": false,
    "pycharm": {
     "name": "#%%\n"
    }
   }
  }
 ],
 "metadata": {
  "kernelspec": {
   "display_name": "Python 3 (ipykernel)",
   "language": "python",
   "name": "python3"
  },
  "language_info": {
   "codemirror_mode": {
    "name": "ipython",
    "version": 3
   },
   "file_extension": ".py",
   "mimetype": "text/x-python",
   "name": "python",
   "nbconvert_exporter": "python",
   "pygments_lexer": "ipython3",
   "version": "3.9.12"
  }
 },
 "nbformat": 4,
 "nbformat_minor": 1
}
