{
 "cells": [
  {
   "cell_type": "markdown",
   "source": [
    "## Do full evaluation on Italia Telecom (Milan) dataset"
   ],
   "metadata": {
    "collapsed": false
   }
  },
  {
   "cell_type": "code",
   "execution_count": null,
   "outputs": [],
   "source": [
    "%load_ext autoreload\n",
    "%autoreload 2\n",
    "%matplotlib inline"
   ],
   "metadata": {
    "collapsed": false,
    "pycharm": {
     "name": "#%%\n"
    }
   }
  },
  {
   "cell_type": "code",
   "execution_count": null,
   "outputs": [],
   "source": [
    "from copy import deepcopy\n",
    "import os\n",
    "import json\n",
    "import numpy as np\n",
    "import pandas as pd\n",
    "\n",
    "from lib.problems import ProblemDataset\n",
    "from baselines.utils import eval_method\n",
    "from baselines.CPP import methods_registry\n",
    "from baselines.CPP.methods_registry import CUDA_METHODS\n",
    "from lib.ltr.utils import load_model\n",
    "from lib.ltr.ccp.method import CKMeans"
   ],
   "metadata": {
    "collapsed": false,
    "pycharm": {
     "name": "#%%\n"
    }
   }
  },
  {
   "cell_type": "code",
   "execution_count": null,
   "outputs": [],
   "source": [
    "SIZE = 1# 00\n",
    "SEED = 1\n",
    "NSEEDS = 1 #3\n",
    "CUDA = False\n",
    "K_NOT_KNOWN = False\n",
    "N = 2020 #500 #2020 #200\n",
    "CORES = 4\n",
    "T_LIM = 180 #480 #900 #180\n",
    "DSET = \"telecom_italia\"\n",
    "\n",
    "SAVE_DIR = f\"./outputs_eval/{DSET}_ccp{N}/\"\n",
    "BL_DIR = os.path.join(SAVE_DIR, \"baselines\")\n",
    "M_DIR = os.path.join(SAVE_DIR, \"model\")\n",
    "smp_cfg = {\"sample_size\": SIZE}\n",
    "INF = float(\"inf\")\n",
    "\n",
    "#DS_PTH = f\"data/CCP/benchmark/{DSET}/sub/test_n{N}_s100_cap1_1_seed4321.npz\"\n",
    "DS_PTH = f\"data/CCP/benchmark/{DSET}/full_test_n2020_k25_cap1_1.npz\"\n",
    "CKPT = \"outputs/final/italia_tel_ccp_200/gnn_pool_pointwise/2023-01-15_10-58-21_399618/checkpoints/epoch=197_val_acc=0.9814.ckpt\"\n",
    "\n",
    "NUM_INIT = 8"
   ],
   "metadata": {
    "collapsed": false,
    "pycharm": {
     "name": "#%%\n"
    }
   }
  },
  {
   "cell_type": "code",
   "execution_count": null,
   "outputs": [],
   "source": [
    "metrics = {}\n",
    "RESULTS = {}\n",
    "seeds = [SEED+i for i in range(NSEEDS)]\n",
    "ds = ProblemDataset(problem=\"CCP\", seed=SEED, data_pth=DS_PTH)\n",
    "ds = ds.sample(**smp_cfg)"
   ],
   "metadata": {
    "collapsed": false,
    "pycharm": {
     "name": "#%%\n"
    }
   }
  },
  {
   "cell_type": "markdown",
   "source": [
    "Our evaluation mainly hinges on the random selection method. This method sequentially selects labels for each node\n",
    "at random while trying to respect the weight constraints.\n",
    "Since for the subsamples of the telecom dataset the value of k is not known but the results are highly dependent on that value,\n",
    "we select it as the smallest k value for which the random method finds a feasible solution.\n",
    "This is also motivated by the fact, that in case another method does not find a feasible solution for\n",
    "the same value of k, we replace its cost by the cost achieved through the random method."
   ],
   "metadata": {
    "collapsed": false,
    "pycharm": {
     "name": "#%% md\n"
    }
   }
  },
  {
   "cell_type": "code",
   "execution_count": null,
   "outputs": [],
   "source": [
    "\n",
    "mthd = \"random_select\"\n",
    "result, smry = eval_method(\n",
    "    method=getattr(methods_registry, mthd),\n",
    "    dataset=ds,\n",
    "    seeds=seeds,\n",
    "    save_dir=BL_DIR,\n",
    "    cuda=False,\n",
    "    k_not_known=True,\n",
    "    sample_cfg=smp_cfg,\n",
    "    method_str=mthd,\n",
    "    verbose=False,\n",
    ")\n",
    "m_id = mthd\n",
    "RESULTS[m_id] = result\n",
    "print(smry)\n",
    "metrics[m_id] = smry\n",
    "rs_res = deepcopy(result)\n",
    "if not \"full\" in DS_PTH:\n",
    "    # retrieve the respective k values and set them for the instances\n",
    "    # get the minimum k value found by the random method for all seeds\n",
    "    k_vals = np.array([r['nc'] for r in rs_res]).reshape(NSEEDS, -1).min(axis=0)\n",
    "    data = ds.data.copy()\n",
    "    assert len(k_vals) == len(data), f\"{len(k_vals)} != {len(data)}\"\n",
    "    for i in range(len(data)):\n",
    "        data[i] = data[i].update(num_components=int(k_vals[i]))\n",
    "    ds.data = data\n"
   ],
   "metadata": {
    "collapsed": false,
    "pycharm": {
     "name": "#%%\n"
    }
   }
  },
  {
   "cell_type": "code",
   "execution_count": null,
   "outputs": [],
   "source": [
    "mthd = \"random_center_knn\"\n",
    "#if not CUDA or CUDA and mthd in CUDA_METHODS:\n",
    "result, smry = eval_method(\n",
    "    method=getattr(methods_registry, mthd),\n",
    "    dataset=ds,\n",
    "    seeds=seeds,\n",
    "    save_dir=BL_DIR,\n",
    "    cuda=CUDA,\n",
    "    k_not_known=K_NOT_KNOWN,\n",
    "    sample_cfg=smp_cfg,\n",
    "    method_str=mthd,\n",
    "    verbose=False,\n",
    ")\n",
    "m_id = f\"{mthd}{'_cuda' if CUDA and mthd in CUDA_METHODS else ''}\"\n",
    "RESULTS[m_id] = result\n",
    "rnd_res = deepcopy(result)\n",
    "costs = np.array([r['tot_center_dist'] for r in rnd_res])\n",
    "max_cost = np.nanmax(costs[costs != INF])\n",
    "print(max_cost)\n",
    "costs = costs.reshape(NSEEDS, -1)\n",
    "is_inf = np.all(costs == INF, axis=0)\n",
    "print(f\"inf: {is_inf.sum()}\")\n",
    "costs[costs == INF] = max_cost\n",
    "# buffer rnd cost mean as drop in replacement\n",
    "rnd_mean_cost = np.nanmean(costs, axis=0)\n",
    "#rnd_mean_cost[is_inf] = max_cost\n",
    "smry['center_dist_mean'] = rnd_mean_cost.mean()\n",
    "print(smry)\n",
    "metrics[m_id] = smry"
   ],
   "metadata": {
    "collapsed": false,
    "pycharm": {
     "name": "#%%\n"
    }
   }
  },
  {
   "cell_type": "code",
   "execution_count": null,
   "outputs": [],
   "source": [
    "mthd = \"topk_center_knn\"\n",
    "if not CUDA or CUDA and mthd in CUDA_METHODS:\n",
    "    result, smry = eval_method(\n",
    "        method=getattr(methods_registry, mthd),\n",
    "        dataset=ds,\n",
    "        seeds=seeds,\n",
    "        save_dir=BL_DIR,\n",
    "        cuda=CUDA,\n",
    "        k_not_known=K_NOT_KNOWN,\n",
    "        sample_cfg=smp_cfg,\n",
    "        method_str=mthd,\n",
    "        verbose=False,\n",
    "    )\n",
    "    m_id = f\"{mthd}{'_cuda' if CUDA and mthd in CUDA_METHODS else ''}\"\n",
    "    RESULTS[m_id] = result\n",
    "    # replace infeasible runs with mean cost of random method\n",
    "    res = deepcopy(result)\n",
    "    costs = np.array([r['tot_center_dist'] for r in res])\n",
    "    costs = costs.reshape(NSEEDS, -1)\n",
    "    for i, c_rnd in enumerate(rnd_mean_cost):\n",
    "        inst_cost = costs[:, i]\n",
    "        inf_msk = inst_cost == INF\n",
    "        if np.any(inf_msk):\n",
    "            inst_cost[inf_msk] = c_rnd\n",
    "            costs[:, i] = inst_cost\n",
    "\n",
    "    smry['center_dist_mean'] = np.mean(costs)\n",
    "    smry['center_dist_std'] = np.mean(np.std(costs, axis=0))\n",
    "    print(f\"adapted summary: {smry}\")\n",
    "    metrics[m_id] = smry\n"
   ],
   "metadata": {
    "collapsed": false,
    "pycharm": {
     "name": "#%%\n"
    }
   }
  },
  {
   "cell_type": "code",
   "execution_count": null,
   "outputs": [],
   "source": [
    "mthd = \"ccp_mh\"\n",
    "if not CUDA or CUDA and mthd in CUDA_METHODS:\n",
    "    result, smry = eval_method(\n",
    "        method=getattr(methods_registry, mthd),\n",
    "        dataset=ds,\n",
    "        seeds=seeds,\n",
    "        save_dir=BL_DIR,\n",
    "        cuda=CUDA,\n",
    "        k_not_known=K_NOT_KNOWN,\n",
    "        sample_cfg=smp_cfg,\n",
    "        num_init=NUM_INIT,\n",
    "        num_cores=CORES,\n",
    "        t_total=T_LIM,\n",
    "        t_local=T_LIM//10,\n",
    "        g_initial=40,\n",
    "        #raise_error=True\n",
    "    )\n",
    "    m_id = f\"{mthd}{'_cuda' if CUDA and mthd in CUDA_METHODS else ''}\"\n",
    "    RESULTS[m_id] = result\n",
    "    # replace infeasible runs with mean cost of random method\n",
    "    res = deepcopy(result)\n",
    "    costs = np.array([r['tot_center_dist'] for r in res])\n",
    "    costs = costs.reshape(NSEEDS, -1)\n",
    "    for i, c_rnd in enumerate(rnd_mean_cost):\n",
    "        inst_cost = costs[:, i]\n",
    "        inf_msk = inst_cost == INF\n",
    "        if np.any(inf_msk):\n",
    "            inst_cost[inf_msk] = c_rnd\n",
    "            costs[:, i] = inst_cost\n",
    "\n",
    "    smry['center_dist_mean'] = np.mean(costs)\n",
    "    smry['center_dist_std'] = np.mean(np.std(costs, axis=0))\n",
    "    print(f\"adapted summary: {smry}\")\n",
    "    metrics[m_id] = smry"
   ],
   "metadata": {
    "collapsed": false,
    "pycharm": {
     "name": "#%%\n"
    }
   }
  },
  {
   "cell_type": "code",
   "execution_count": null,
   "outputs": [],
   "source": [
    "mthd = \"rpack\"\n",
    "if not CUDA or CUDA and mthd in CUDA_METHODS:\n",
    "    result, smry = eval_method(\n",
    "        method=getattr(methods_registry, mthd),\n",
    "        dataset=ds,\n",
    "        seeds=seeds,\n",
    "        save_dir=BL_DIR,\n",
    "        cuda=CUDA,\n",
    "        k_not_known=K_NOT_KNOWN,\n",
    "        sample_cfg=smp_cfg,\n",
    "        num_init=NUM_INIT,\n",
    "        num_cores=CORES,\n",
    "        gurobi_timeout=T_LIM//8,  # 4 # 2\n",
    "        timeout=T_LIM,\n",
    "        timeout_kill=(T_LIM*2)+1,\n",
    "        verbose=False,\n",
    "    )\n",
    "    m_id = f\"{mthd}{'_cuda' if CUDA and mthd in CUDA_METHODS else ''}\"\n",
    "    RESULTS[m_id] = result\n",
    "    # replace infeasible runs with mean cost of random method\n",
    "    res = deepcopy(result)\n",
    "    costs = np.array([r['tot_center_dist'] for r in res])\n",
    "    costs = costs.reshape(NSEEDS, -1)\n",
    "    for i, c_rnd in enumerate(rnd_mean_cost):\n",
    "        inst_cost = costs[:, i]\n",
    "        inf_msk = inst_cost == INF\n",
    "        if np.any(inf_msk):\n",
    "            inst_cost[inf_msk] = c_rnd\n",
    "            costs[:, i] = inst_cost\n",
    "\n",
    "    smry['center_dist_mean'] = np.mean(costs)\n",
    "    smry['center_dist_std'] = np.mean(np.std(costs, axis=0))\n",
    "    print(f\"adapted summary: {smry}\")\n",
    "    metrics[m_id] = smry"
   ],
   "metadata": {
    "collapsed": false,
    "pycharm": {
     "name": "#%%\n"
    }
   }
  },
  {
   "cell_type": "code",
   "execution_count": null,
   "outputs": [],
   "source": [
    "mthd = \"cap_kmeans\"\n",
    "if not CUDA or CUDA and mthd in CUDA_METHODS:\n",
    "    result, smry = eval_method(\n",
    "        method=getattr(methods_registry, mthd),\n",
    "        dataset=ds,\n",
    "        seeds=seeds,\n",
    "        save_dir=BL_DIR,\n",
    "        cuda=CUDA,\n",
    "        k_not_known=K_NOT_KNOWN,\n",
    "        sample_cfg=smp_cfg,\n",
    "        verbose=False,\n",
    "        num_init=NUM_INIT,\n",
    "        tol=1e-4,\n",
    "        max_iter=80,\n",
    "        init_method=\"ckm++\",\n",
    "    )\n",
    "    m_id = f\"{mthd}{'_cuda' if CUDA and mthd in CUDA_METHODS else ''}\"\n",
    "    RESULTS[m_id] = result\n",
    "    # replace infeasible runs with mean cost of random method\n",
    "    res = deepcopy(result)\n",
    "    costs = np.array([r['tot_center_dist'] for r in res])\n",
    "    costs = costs.reshape(NSEEDS, -1)\n",
    "    for i, c_rnd in enumerate(rnd_mean_cost):\n",
    "        inst_cost = costs[:, i]\n",
    "        inf_msk = inst_cost == INF\n",
    "        if np.any(inf_msk):\n",
    "            inst_cost[inf_msk] = c_rnd\n",
    "            costs[:, i] = inst_cost\n",
    "\n",
    "    smry['center_dist_mean'] = np.mean(costs)\n",
    "    smry['center_dist_std'] = np.mean(np.std(costs, axis=0))\n",
    "    print(f\"adapted summary: {smry}\")\n",
    "    metrics[m_id] = smry\n"
   ],
   "metadata": {
    "collapsed": false,
    "pycharm": {
     "name": "#%%\n"
    }
   }
  },
  {
   "cell_type": "code",
   "execution_count": null,
   "outputs": [],
   "source": [
    "# greedily assigns the last 'opt_last_frac' fraction of total nodes\n",
    "# ordered by their absolute priority to the closest center\n",
    "\n",
    "mthd = \"ncc_greedy\"\n",
    "model = load_model(\"ccp\", CKPT)\n",
    "\n",
    "ckmeans = CKMeans(\n",
    "    max_iter=50,\n",
    "    num_init=NUM_INIT,\n",
    "    model=model,\n",
    "    seed=SEED,\n",
    "    nbh_knn=25,\n",
    "    init_method=\"ckm++\",\n",
    "    convergence_criterion=\"inertia\",\n",
    "    tol=0.001,\n",
    "    pre_iter=0, #2 for full\n",
    "    verbose=False,\n",
    "    opt_last_frac=0.25,\n",
    "    opt_last_samples=1, # no multiple samples\n",
    "    opt_last_prio=True\n",
    ")\n",
    "\n",
    "result, smry = eval_method(\n",
    "    method=ckmeans.inference,\n",
    "    dataset=ds,\n",
    "    seeds=seeds,\n",
    "    save_dir=M_DIR,\n",
    "    cuda=CUDA,\n",
    "    k_not_known=K_NOT_KNOWN,\n",
    "    sample_cfg=smp_cfg,\n",
    "    method_str=mthd,\n",
    ")\n",
    "m_id = f\"{mthd}{'_cuda' if CUDA and mthd in CUDA_METHODS else ''}\"\n",
    "RESULTS[m_id] = result\n",
    "# replace infeasible runs with mean cost of random method\n",
    "res = deepcopy(result)\n",
    "costs = np.array([r['tot_center_dist'] for r in res])\n",
    "costs = costs.reshape(NSEEDS, -1)\n",
    "\n",
    "smry['center_dist_mean'] = np.mean(costs)\n",
    "smry['center_dist_std'] = np.mean(np.std(costs, axis=0))\n",
    "print(f\"adapted summary: {smry}\")\n",
    "metrics[m_id] = smry"
   ],
   "metadata": {
    "collapsed": false,
    "pycharm": {
     "name": "#%%\n"
    }
   }
  },
  {
   "cell_type": "code",
   "execution_count": null,
   "outputs": [],
   "source": [
    "# samples multiple assignments for the last 'opt_last_frac' fraction of total nodes\n",
    "# and selects the best one\n",
    "\n",
    "mthd = \"ncc_samp\"\n",
    "model = load_model(\"ccp\", CKPT)\n",
    "\n",
    "ckmeans = CKMeans(\n",
    "    max_iter=50,\n",
    "    num_init=NUM_INIT,\n",
    "    model=model,\n",
    "    seed=SEED,\n",
    "    nbh_knn=25,\n",
    "    init_method=\"ckm++\",\n",
    "    convergence_criterion=\"inertia\",\n",
    "    permute_k=False,\n",
    "    tol=0.001,\n",
    "    pre_iter=0,\n",
    "    verbose=False,\n",
    "    opt_last_frac=0.25,\n",
    "    opt_last_samples=64,\n",
    "    opt_last_prio=True,\n",
    ")\n",
    "# 2, 25, 128\n",
    "\n",
    "result, smry = eval_method(\n",
    "    method=ckmeans.inference,\n",
    "    dataset=ds,\n",
    "    seeds=seeds,\n",
    "    save_dir=M_DIR,\n",
    "    cuda=CUDA,\n",
    "    k_not_known=K_NOT_KNOWN,\n",
    "    sample_cfg=smp_cfg,\n",
    "    method_str=mthd,\n",
    ")\n",
    "m_id = f\"{mthd}{'_cuda' if CUDA and mthd in CUDA_METHODS else ''}\"\n",
    "RESULTS[m_id] = result\n",
    "# replace infeasible runs with mean cost of random method\n",
    "res = deepcopy(result)\n",
    "costs = np.array([r['tot_center_dist'] for r in res])\n",
    "costs = costs.reshape(NSEEDS, -1)\n",
    "\n",
    "smry['center_dist_mean'] = np.mean(costs)\n",
    "smry['center_dist_std'] = np.mean(np.std(costs, axis=0))\n",
    "print(f\"adapted summary: {smry}\")\n",
    "metrics[m_id] = smry"
   ],
   "metadata": {
    "collapsed": false,
    "pycharm": {
     "name": "#%%\n"
    }
   }
  },
  {
   "cell_type": "code",
   "execution_count": null,
   "outputs": [],
   "source": [
    "# convert to dataframe for nice table ;)\n",
    "metric_df = pd.DataFrame(metrics)\n",
    "metric_df\n"
   ],
   "metadata": {
    "collapsed": false,
    "pycharm": {
     "name": "#%%\n"
    }
   }
  },
  {
   "cell_type": "code",
   "execution_count": null,
   "outputs": [],
   "source": [
    "save_metrics = metric_df.to_dict()\n",
    "os.makedirs(SAVE_DIR, exist_ok=True)\n",
    "file = os.path.join(SAVE_DIR, f\"full_results.json\")\n",
    "sv = True\n",
    "if os.path.exists(file):\n",
    "    sv = False\n",
    "    inp = input(\"File exists! Overwrite? (y/n)\")\n",
    "    if str(inp).lower() == \"y\":\n",
    "        sv = True\n",
    "if sv:\n",
    "    with open(file, 'w') as fp:\n",
    "        json.dump(save_metrics, fp)"
   ],
   "metadata": {
    "collapsed": false,
    "pycharm": {
     "name": "#%%\n"
    }
   }
  },
  {
   "cell_type": "code",
   "execution_count": null,
   "outputs": [],
   "source": [
    "import torch\n",
    "\n",
    "res = torch.load(\"outputs_eval/shanghai_telecom_ccp2373/baselines/rpack/full_test_n2373_k40_cap1_1/eval_results_full_1.pkl\")\n",
    "res\n"
   ],
   "metadata": {
    "collapsed": false,
    "pycharm": {
     "name": "#%%\n"
    }
   }
  },
  {
   "cell_type": "code",
   "execution_count": null,
   "outputs": [],
   "source": [],
   "metadata": {
    "collapsed": false,
    "pycharm": {
     "name": "#%%\n"
    }
   }
  }
 ],
 "metadata": {
  "kernelspec": {
   "display_name": "Python 3 (ipykernel)",
   "language": "python",
   "name": "python3"
  },
  "language_info": {
   "codemirror_mode": {
    "name": "ipython",
    "version": 3
   },
   "file_extension": ".py",
   "mimetype": "text/x-python",
   "name": "python",
   "nbconvert_exporter": "python",
   "pygments_lexer": "ipython3",
   "version": "3.9.12"
  }
 },
 "nbformat": 4,
 "nbformat_minor": 1
}
